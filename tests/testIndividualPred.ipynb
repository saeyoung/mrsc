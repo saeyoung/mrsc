{
 "cells": [
  {
   "cell_type": "code",
   "execution_count": 1,
   "metadata": {
    "collapsed": true
   },
   "outputs": [],
   "source": [
    "import sys, os\n",
    "sys.path.append(\"../..\")\n",
    "sys.path.append(\"..\")\n",
    "sys.path.append(os.getcwd())\n",
    "\n",
    "from matplotlib import pyplot as plt\n",
    "import numpy as np\n",
    "import pandas as pd\n",
    "import copy\n",
    "\n",
    "from mrsc.src.model.SVDmodel import SVDmodel\n",
    "from mrsc.src.model.Target import Target\n",
    "from mrsc.src.model.Donor import Donor\n",
    "from mrsc.src.synthcontrol.mRSC import mRSC\n",
    "from mrsc.src.importData import *\n",
    "import mrsc.src.utils as utils"
   ]
  },
  {
   "cell_type": "code",
   "execution_count": 9,
   "metadata": {
    "collapsed": true
   },
   "outputs": [],
   "source": [
    "def getActivePlayers(stats, year):\n",
    "    thisYear = stats[stats.Year == year].copy()\n",
    "    return thisYear.Player.unique()\n",
    "\n",
    "def topPlayers(stats, year, metric, n):\n",
    "    stats = stats[stats.Year == year]\n",
    "    stats = stats.groupby('Player').mean().reset_index()\n",
    "    stats_sorted = stats[stats.Year == year].sort_values(metric, ascending = False).reset_index(drop=True)\n",
    "    return stats_sorted[[\"Player\",\"player_id\"]][:n]\n",
    "\n",
    "def removeDuplicated(players, stats):\n",
    "    \"\"\"\n",
    "    players: \"../data/nba-players-stats/player_data.csv\"\n",
    "    stats: \"../data/nba-players-stats/Seasons_Stats.csv\"\n",
    "    \"\"\"\n",
    "    # players with the same name\n",
    "    names = players.name.unique()\n",
    "    duplicated = np.array([])\n",
    "\n",
    "    for name in names:\n",
    "        numrows = len(players[players.name == name])\n",
    "        if numrows != 1:\n",
    "            duplicated = np.append(duplicated, name)\n",
    "\n",
    "    duplicated = np.sort(duplicated)\n",
    "\n",
    "    start_year = players.copy()\n",
    "    start_year = start_year.rename(columns={\"name\":\"Player\"})\n",
    "\n",
    "    # for non-duplicated players\n",
    "    stats_not_duplicated = stats[~stats.Player.isin(duplicated)]\n",
    "    stats_not_duplicated = pd.merge(stats_not_duplicated, start_year, on=\"Player\", how=\"left\")\n",
    "\n",
    "    # only take the values that make sense\n",
    "    stats_not_duplicated = stats_not_duplicated[(stats_not_duplicated.Year >= stats_not_duplicated.year_start) & (stats_not_duplicated.Year <= stats_not_duplicated.year_end )]\n",
    "    stats_not_duplicated[\"year_count\"] = stats_not_duplicated.Year - stats_not_duplicated.year_start\n",
    "\n",
    "    return stats_not_duplicated"
   ]
  },
  {
   "cell_type": "markdown",
   "metadata": {},
   "source": [
    "# Clean Data"
   ]
  },
  {
   "cell_type": "code",
   "execution_count": 3,
   "metadata": {
    "collapsed": true
   },
   "outputs": [],
   "source": [
    "\"\"\"\n",
    "import data\n",
    "\"\"\"\n",
    "players = pd.read_csv(\"../data/nba-players-stats/player_data.csv\")\n",
    "players = players[players.year_start >= 1980] # only choose players who started after 1980\n",
    "players[\"player_id\"] = range(0,len(players.name)) # assign id\n",
    "\n",
    "stats = pd.read_csv(\"../data/nba-players-stats/Seasons_Stats.csv\")\n",
    "stats = stats[stats.Player.isin(players.name)]\n",
    "\n",
    "# only after 1980\n",
    "stats = stats[stats.Year >= 1980]\n",
    "\n",
    "# without duplicated names --> to do: how to distinguish multiple player with the same name\n",
    "stats = removeDuplicated(players, stats)\n",
    "stats.Year = stats.Year.astype(int)\n",
    "stats.year_count = stats.year_count.astype(int)\n",
    "\n",
    "# transform stats to a dictionary composed of df's for each stat\n",
    "# the stats are re-calculated to get one stat for each year\n",
    "\n",
    "metricsPerGameColNames = [\"PTS\",\"AST\",\"TOV\",\"TRB\",\"STL\",\"BLK\"]\n",
    "metricsPerGameDict = getMetricsPerGameDict(stats, metricsPerGameColNames)\n",
    "\n",
    "metricsPerCentColNames = [\"FG\",\"FT\",\"3P\"]\n",
    "metricsPerCentDict = getMetricsPerCentDict(stats, metricsPerCentColNames)\n",
    "\n",
    "metricsWeightedColNames = [\"PER\"]\n",
    "metricsWeightedDict = getMetricsWeightedDict(stats, metricsWeightedColNames)\n",
    "\n",
    "allMetricsDict = {**metricsPerGameDict, **metricsPerCentDict, **metricsWeightedDict}\n",
    "allPivotedTableDict = getPivotedTableDict(allMetricsDict)\n",
    "\n",
    "# this matrix will be used to mask the table\n",
    "df_year = pd.pivot_table(stats, values=\"Year\", index=\"Player\", columns = \"year_count\")"
   ]
  },
  {
   "cell_type": "code",
   "execution_count": 17,
   "metadata": {},
   "outputs": [],
   "source": [
    "target = Target(\"A.C. Green\", allPivotedTableDict, df_year)\n",
    "donor = Donor(allPivotedTableDict, df_year)\n",
    "\n",
    "mrsc = mRSC(donor, target, probObservation=1)\n",
    "mrsc.fit([\"PTS_G\",\"AST_G\"], 1991, pred_length =2, singvals=4)"
   ]
  },
  {
   "cell_type": "code",
   "execution_count": null,
   "metadata": {
    "collapsed": true
   },
   "outputs": [],
   "source": [
    "mrsc."
   ]
  },
  {
   "cell_type": "code",
   "execution_count": 16,
   "metadata": {},
   "outputs": [],
   "source": [
    "pred_year = 2010\n",
    "players = getActivePlayers(stats, pred_year)"
   ]
  },
  {
   "cell_type": "code",
   "execution_count": null,
   "metadata": {
    "collapsed": true
   },
   "outputs": [],
   "source": [
    "for player in players:\n",
    "    "
   ]
  },
  {
   "cell_type": "code",
   "execution_count": null,
   "metadata": {
    "collapsed": true
   },
   "outputs": [],
   "source": []
  },
  {
   "cell_type": "code",
   "execution_count": null,
   "metadata": {
    "collapsed": true
   },
   "outputs": [],
   "source": []
  },
  {
   "cell_type": "code",
   "execution_count": null,
   "metadata": {
    "collapsed": true
   },
   "outputs": [],
   "source": []
  }
 ],
 "metadata": {
  "kernelspec": {
   "display_name": "Python 3",
   "language": "python",
   "name": "python3"
  },
  "language_info": {
   "codemirror_mode": {
    "name": "ipython",
    "version": 3
   },
   "file_extension": ".py",
   "mimetype": "text/x-python",
   "name": "python",
   "nbconvert_exporter": "python",
   "pygments_lexer": "ipython3",
   "version": "3.6.7"
  }
 },
 "nbformat": 4,
 "nbformat_minor": 2
}
