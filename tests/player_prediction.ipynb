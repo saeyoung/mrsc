{
 "cells": [
  {
   "cell_type": "code",
   "execution_count": 1,
   "metadata": {},
   "outputs": [],
   "source": [
    "import sys, os\n",
    "sys.path.append(\"../..\")\n",
    "sys.path.append(\"..\")\n",
    "sys.path.append(os.getcwd())\n",
    "\n",
    "from matplotlib import pyplot as plt\n",
    "import numpy as np\n",
    "import pandas as pd\n",
    "import copy\n",
    "import pickle\n",
    "\n",
    "from mrsc.src.model.SVDmodel import SVDmodel\n",
    "from mrsc.src.model.Target import Target\n",
    "from mrsc.src.model.Donor import Donor\n",
    "from mrsc.src.synthcontrol.mRSC import mRSC\n",
    "from mrsc.src.importData import *\n",
    "import mrsc.src.utils as utils\n",
    "\n",
    "from itertools import combinations, product"
   ]
  },
  {
   "cell_type": "code",
   "execution_count": 2,
   "metadata": {},
   "outputs": [],
   "source": [
    "def getActivePlayers(stats, year, buffer):\n",
    "    # list of name of the players who were active in this and last year\n",
    "    thisYear = stats[stats.Year == year].copy()\n",
    "    players = list(thisYear.Player.unique())\n",
    "    for i in range(1, buffer+1):\n",
    "        previousYear = stats[stats.Year == (year-i)].copy()\n",
    "        players = list(set(players) & set(previousYear.Player.unique()))\n",
    "    return players\n",
    "\n",
    "def topPlayers(stats, year, metric, n):\n",
    "    stats = stats[stats.Year == year]\n",
    "    stats = stats.groupby('Player').mean().reset_index()\n",
    "    stats_sorted = stats[stats.Year == year].sort_values(metric, ascending = False).reset_index(drop=True)\n",
    "    return stats_sorted[[\"Player\",\"player_id\"]][:n]\n",
    "\n",
    "def removeDuplicated(players, stats):\n",
    "    \"\"\"\n",
    "    players: \"../data/nba-players-stats/player_data.csv\"\n",
    "    stats: \"../data/nba-players-stats/Seasons_Stats.csv\"\n",
    "    \"\"\"\n",
    "    # players with the same name\n",
    "    names = players.name.unique()\n",
    "    duplicated = np.array([])\n",
    "\n",
    "    for name in names:\n",
    "        numrows = len(players[players.name == name])\n",
    "        if numrows != 1:\n",
    "            duplicated = np.append(duplicated, name)\n",
    "\n",
    "    duplicated = np.sort(duplicated)\n",
    "\n",
    "    start_year = players.copy()\n",
    "    start_year = start_year.rename(columns={\"name\":\"Player\"})\n",
    "\n",
    "    # for non-duplicated players\n",
    "    stats_not_duplicated = stats[~stats.Player.isin(duplicated)]\n",
    "    stats_not_duplicated = pd.merge(stats_not_duplicated, start_year, on=\"Player\", how=\"left\")\n",
    "\n",
    "    # only take the values that make sense\n",
    "    stats_not_duplicated = stats_not_duplicated[(stats_not_duplicated.Year >= stats_not_duplicated.year_start) & (stats_not_duplicated.Year <= stats_not_duplicated.year_end )]\n",
    "    stats_not_duplicated[\"year_count\"] = stats_not_duplicated.Year - stats_not_duplicated.year_start\n",
    "\n",
    "    return stats_not_duplicated\n",
    "\n",
    "def getMetrics(target, donor, pred_year, allMetrics, threshold, expSetup):\n",
    "    target_data = target.concat(allMetrics, pred_year, pred_length=1)\n",
    "\n",
    "    num_k = len(allMetrics)\n",
    "    total_index = int(target_data.shape[1] / num_k)\n",
    "    mat_form_method = expSetup[0]\n",
    "\n",
    "    metrics_list = []\n",
    "    for metric_of_interest in allMetrics:\n",
    "        df = donor.concat([metric_of_interest], 2016, total_index, method = mat_form_method)\n",
    "        apprx_rank = utils.approximate_rank(df, t = threshold)\n",
    "        energy_captured = utils.svdAanlysis(df, title=metric_of_interest, verbose = False)[apprx_rank-1]\n",
    "\n",
    "        metrics = [metric_of_interest]\n",
    "        candidates = copy.deepcopy(allMetrics)\n",
    "        candidates.remove(metric_of_interest)\n",
    "\n",
    "        while True:\n",
    "            energy_diff_df = pd.DataFrame()\n",
    "            for metric in candidates:\n",
    "                comb = metrics+[metric]\n",
    "                df = donor.concat(comb, 2016, total_index, method = mat_form_method)\n",
    "                energy_at_apprx_rank = utils.svdAanlysis(df, k=apprx_rank, verbose=False)[-1]\n",
    "                \n",
    "                if(energy_at_apprx_rank > threshold):\n",
    "                    energy_diff = np.abs(energy_at_apprx_rank - energy_captured)\n",
    "                    energy_diff_df = pd.concat([energy_diff_df, pd.DataFrame([[energy_diff]], index=[metric])], axis=0)\n",
    "        #             print(energy_diff)\n",
    "            if (energy_diff_df.shape[0] == 0):\n",
    "                break\n",
    "            new_metric = energy_diff_df.sort_values(0).index[0]\n",
    "            metrics = metrics + [new_metric]\n",
    "            candidates.remove(new_metric)\n",
    "        metrics_list.append(metrics)\n",
    "        print(metrics)\n",
    "\n",
    "    return metrics_list\n",
    "\n",
    "def getWeitghts(target, donor, metrics_list, expSetup, method = \"mean\"):   \n",
    "    # get mat_form_method\n",
    "    mat_form_method = expSetup[0] # \"fixed\"\n",
    "\n",
    "    # get weights for metrics\n",
    "    weights_list = []\n",
    "    for metrics in metrics_list:\n",
    "        target_data = target.concat(metrics, 2016, pred_length=1)\n",
    "        num_k = len(metrics)\n",
    "        total_index = int(target_data.shape[1] / num_k)\n",
    "        donor_data = donor.concat(metrics, 2016, total_index, method = mat_form_method)\n",
    "\n",
    "        if (method == \"mean\"):\n",
    "            weights = []\n",
    "            for i in range(num_k):\n",
    "                weights.append(1/(donor_data.iloc[:,i*total_index:(i+1)*total_index].mean().mean()))\n",
    "            weights_list.append(weights)\n",
    "        elif (method == \"var\"):\n",
    "            weights = []\n",
    "            for i in range(num_k):\n",
    "                weights.append(1/(1+np.var(donor_data.iloc[:,i*total_index:(i+1)*total_index].to_numpy().flatten())))\n",
    "            weights_list.append(weights)\n",
    "        else:\n",
    "            raise ValueError(\"invalid method\")\n",
    "    return weights_list"
   ]
  },
  {
   "cell_type": "markdown",
   "metadata": {},
   "source": [
    "# Clean Data"
   ]
  },
  {
   "cell_type": "code",
   "execution_count": 3,
   "metadata": {},
   "outputs": [],
   "source": [
    "\"\"\"\n",
    "import data\n",
    "\"\"\"\n",
    "players = pd.read_csv(\"../data/nba-players-stats/player_data.csv\")\n",
    "players = players[players.year_start >= 1980] # only choose players who started after 1980\n",
    "players[\"player_id\"] = range(0,len(players.name)) # assign id\n",
    "\n",
    "stats = pd.read_csv(\"../data/nba-players-stats/Seasons_Stats.csv\")\n",
    "stats = stats[stats.Player.isin(players.name)]\n",
    "\n",
    "# only after 1980\n",
    "stats = stats[stats.Year >= 1980]\n",
    "\n",
    "# without duplicated names --> to do: how to distinguish multiple player with the same name\n",
    "stats = removeDuplicated(players, stats)\n",
    "stats.Year = stats.Year.astype(int)\n",
    "stats.year_count = stats.year_count.astype(int)\n",
    "\n",
    "# transform stats to a dictionary composed of df's for each stat\n",
    "# the stats are re-calculated to get one stat for each year\n",
    "\n",
    "metricsPerGameColNames = [\"PTS\",\"AST\",\"TOV\",\"TRB\",\"STL\",\"BLK\",\"3P\"]\n",
    "metricsPerGameDict = getMetricsPerGameDict(stats, metricsPerGameColNames)\n",
    "\n",
    "metricsPerCentColNames = [\"FG\",\"FT\"]\n",
    "metricsPerCentDict = getMetricsPerCentDict(stats, metricsPerCentColNames)\n",
    "\n",
    "metricsWeightedColNames = [\"PER\"]\n",
    "metricsWeightedDict = getMetricsWeightedDict(stats, metricsWeightedColNames)\n",
    "\n",
    "allMetricsDict = {**metricsPerGameDict, **metricsPerCentDict, **metricsWeightedDict}\n",
    "allPivotedTableDict = getPivotedTableDict(allMetricsDict)\n",
    "allMetrics = list(allMetricsDict.keys())\n",
    "\n",
    "# this matrix will be used to mask the table\n",
    "df_year = pd.pivot_table(stats, values=\"Year\", index=\"Player\", columns = \"year_count\")"
   ]
  },
  {
   "cell_type": "code",
   "execution_count": 4,
   "metadata": {},
   "outputs": [
    {
     "data": {
      "text/plain": [
       "['PTS_G',\n",
       " 'AST_G',\n",
       " 'TOV_G',\n",
       " 'TRB_G',\n",
       " 'STL_G',\n",
       " 'BLK_G',\n",
       " '3P_G',\n",
       " 'FG%',\n",
       " 'FT%',\n",
       " 'PER_w']"
      ]
     },
     "execution_count": 4,
     "metadata": {},
     "output_type": "execute_result"
    }
   ],
   "source": [
    "allMetrics"
   ]
  },
  {
   "cell_type": "code",
   "execution_count": 5,
   "metadata": {},
   "outputs": [],
   "source": [
    "pred_year = 2016\n",
    "# targets to test\n",
    "activePlayers = getActivePlayers(stats, pred_year, 4)\n",
    "activePlayers.sort()\n",
    "# to few donors\n",
    "activePlayers.remove(\"Kevin Garnett\")\n",
    "activePlayers.remove(\"Kobe Bryant\")\n",
    "\n",
    "# overall setup\n",
    "expSetup = [\"sliding\", \"SVD\", \"all\", \"pinv\", False]\n",
    "threshold = 0.97"
   ]
  },
  {
   "cell_type": "markdown",
   "metadata": {},
   "source": [
    "# Baseline"
   ]
  },
  {
   "cell_type": "code",
   "execution_count": 56,
   "metadata": {},
   "outputs": [
    {
     "name": "stdout",
     "output_type": "stream",
     "text": [
      "Algo: outputs the mean of the player's history\n",
      "-----\n",
      "*** MAPE ***\n",
      "PTS_G    0.549117\n",
      "AST_G    0.499593\n",
      "TOV_G    0.586009\n",
      "PER_w    0.285259\n",
      "FG%      0.076325\n",
      "FT%      0.081761\n",
      "3P%      0.221556\n",
      "TRB_G    0.411837\n",
      "STL_G    0.443918\n",
      "BLK_G    0.682211\n",
      "dtype: float64\n",
      "MAPE for all:  0.39739103180264496\n",
      "\n",
      "*** RMSE ***\n",
      "PTS_G    4.669743\n",
      "AST_G    1.132015\n",
      "TOV_G    0.614409\n",
      "PER_w    3.775067\n",
      "FG%      0.052802\n",
      "FT%      0.099701\n",
      "3P%      0.126288\n",
      "TRB_G    1.703413\n",
      "STL_G    0.299635\n",
      "BLK_G    0.283370\n",
      "dtype: float64\n",
      "RMSE for all:  1.2756443185018567\n"
     ]
    }
   ],
   "source": [
    "metrics_to_use= [\"PTS_G\",\"AST_G\",\"TOV_G\",\"PER_w\", \"FG%\",\"FT%\",\"3P%\",\"TRB_G\",\"STL_G\",\"BLK_G\"]\n",
    "\n",
    "print(\"Algo: outputs the mean of the player's history\")\n",
    "print(\"-----\")\n",
    "pred_all = pd.DataFrame()\n",
    "true_all = pd.DataFrame()\n",
    "for playerName in activePlayers:\n",
    "    target = Target(playerName, allPivotedTableDict, df_year)\n",
    "    target_data = target.concat(metrics_to_use, 2016, pred_length=1)\n",
    "    num_k = len(metrics_to_use)\n",
    "    interv_index = int(target_data.shape[1]/num_k -1)\n",
    "    total_index = int(interv_index + 1)\n",
    "\n",
    "    # true\n",
    "    true = utils.get_postint_data(target_data, interv_index, total_index, num_k).T\n",
    "    true.index = metrics_to_use\n",
    "\n",
    "    # predictions\n",
    "    history = utils.get_preint_data(target_data, interv_index, total_index, num_k)\n",
    "    pred = []\n",
    "    for i in range(num_k):\n",
    "        pred.append(history.iloc[:,i*interv_index:(i+1)*interv_index].mean(axis=1).to_list())\n",
    "\n",
    "    pred = pd.DataFrame(pred, index=metrics_to_use, columns = [playerName])\n",
    "\n",
    "    pred_all = pd.concat([pred_all, pred], axis=1)\n",
    "    true_all = pd.concat([true_all, true], axis=1)\n",
    "\n",
    "###################\n",
    "mask = (true_all !=0 )\n",
    "mape = np.abs(pred_all - true_all) / true_all[mask]\n",
    "print(\"*** MAPE ***\")\n",
    "print(mape.mean(axis=1))\n",
    "print(\"MAPE for all: \", mape.mean().mean())\n",
    "rmse = utils.rmse_2d(true_all, pred_all)\n",
    "print()\n",
    "print(\"*** RMSE ***\")\n",
    "print(rmse)\n",
    "print(\"RMSE for all: \", rmse.mean())    "
   ]
  },
  {
   "cell_type": "markdown",
   "metadata": {},
   "source": [
    "### Off vs. Def"
   ]
  },
  {
   "cell_type": "code",
   "execution_count": 5,
   "metadata": {},
   "outputs": [],
   "source": [
    "def getWeitghts(target, donor, metrics_list, expSetup, method = \"mean\"):   \n",
    "    # get mat_form_method\n",
    "    mat_form_method = expSetup[0] # \"fixed\"\n",
    "    \n",
    "    # get weights for metrics\n",
    "    weights_list = []\n",
    "    for metrics in metrics_list:\n",
    "        target_data = target.concat(metrics, 2016, pred_length=1)\n",
    "        num_k = len(metrics)\n",
    "        total_index = int(target_data.shape[1] / num_k)\n",
    "        donor_data = donor.concat(metrics, 2016, total_index, method = mat_form_method)\n",
    "    \n",
    "        if (method == \"mean\"):\n",
    "            weights = []\n",
    "            for i in range(num_k):\n",
    "                weights.append(1/(donor_data.iloc[:,i*total_index:(i+1)*total_index].mean().mean()))\n",
    "            weights_list.append(weights)\n",
    "        elif (method == \"var\"):\n",
    "            weights = []\n",
    "            for i in range(num_k):\n",
    "                weights.append(1/(1+np.var(donor_data.iloc[:,i*total_index:(i+1)*total_index].to_numpy().flatten())))\n",
    "            weights_list.append(weights)\n",
    "        else:\n",
    "            raise ValueError(\"invalid method\")\n",
    "    return weights_list"
   ]
  },
  {
   "cell_type": "code",
   "execution_count": 6,
   "metadata": {},
   "outputs": [
    {
     "name": "stdout",
     "output_type": "stream",
     "text": [
      "start experiment - off/def with mean-standardized weights\n",
      "*** MAPE ***\n",
      "PTS_G    0.397267\n",
      "AST_G    0.595518\n",
      "TOV_G    0.408489\n",
      "PER_w    0.258121\n",
      "FG%      0.132499\n",
      "FT%      0.129018\n",
      "3P%      0.229390\n",
      "TRB_G    0.302026\n",
      "STL_G    0.370390\n",
      "BLK_G    0.551463\n",
      "dtype: float64\n",
      "MAPE for all:  0.34719459241255957\n",
      "\n",
      "*** RMSE ***\n",
      "PTS_G    4.121269\n",
      "AST_G    1.182825\n",
      "TOV_G    0.562889\n",
      "PER_w    4.312484\n",
      "FG%      0.084788\n",
      "FT%      0.134650\n",
      "3P%      0.127436\n",
      "TRB_G    1.461399\n",
      "STL_G    0.286534\n",
      "BLK_G    0.221178\n",
      "dtype: float64\n",
      "RMSE for all:  1.2495450976486413\n"
     ]
    }
   ],
   "source": [
    "offMetrics = [\"PTS_G\",\"AST_G\",\"TOV_G\",\"PER_w\", \"FG%\",\"FT%\",\"3P%\"]\n",
    "defMetrics = [\"TRB_G\",\"STL_G\",\"BLK_G\"]\n",
    "metrics_list = [offMetrics, defMetrics]\n",
    "\n",
    "print(\"start experiment - off/def with mean-standardized weights\")\n",
    "pred_all = pd.DataFrame()\n",
    "true_all = pd.DataFrame()\n",
    "for playerName in activePlayers:\n",
    "    target = Target(playerName, allPivotedTableDict, df_year)\n",
    "    donor = Donor(allPivotedTableDict, df_year)\n",
    "    \n",
    "    weights_list = getWeitghts(target, donor, metrics_list, expSetup, method=\"mean\")\n",
    "\n",
    "    mrsc = mRSC(donor, target, probObservation=1)\n",
    "    mrsc.fit_threshold(offMetrics, weights_list[0], 2016, pred_length = 1, threshold = threshold, setup = expSetup)\n",
    "\n",
    "    predOff = mrsc.predict()\n",
    "    trueOff = mrsc.getTrue()\n",
    "    predOff.columns = [playerName]\n",
    "    trueOff.columns = [playerName]\n",
    "\n",
    "    mrsc.fit_threshold(defMetrics, weights_list[1], 2016, pred_length = 1, threshold = threshold, setup = expSetup)\n",
    "    predDef = mrsc.predict()\n",
    "    trueDef = mrsc.getTrue()\n",
    "    predDef.columns = [playerName]\n",
    "    trueDef.columns = [playerName]\n",
    "\n",
    "    pred = pd.concat([predOff, predDef], axis=0)\n",
    "    true = pd.concat([trueOff, trueDef], axis=0)\n",
    "\n",
    "    pred_all = pd.concat([pred_all, pred], axis=1)\n",
    "    true_all = pd.concat([true_all, true], axis=1)\n",
    "\n",
    "###################\n",
    "mask = (true_all !=0 )\n",
    "mape = np.abs(pred_all - true_all) / true_all[mask]\n",
    "print(\"*** MAPE ***\")\n",
    "print(mape.mean(axis=1))\n",
    "print(\"MAPE for all: \", mape.mean().mean())\n",
    "rmse = utils.rmse_2d(true_all, pred_all)\n",
    "print()\n",
    "print(\"*** RMSE ***\")\n",
    "print(rmse)\n",
    "print(\"RMSE for all: \", rmse.mean())    "
   ]
  },
  {
   "cell_type": "markdown",
   "metadata": {},
   "source": [
    "# grouping"
   ]
  },
  {
   "cell_type": "code",
   "execution_count": 7,
   "metadata": {},
   "outputs": [
    {
     "name": "stdout",
     "output_type": "stream",
     "text": [
      "start experiment - off/def with mean-standardized weights\n",
      "*** MAPE ***\n",
      "PTS_G    0.317964\n",
      "PER_w    0.226211\n",
      "TOV_G    0.402749\n",
      "FG%      0.096594\n",
      "FT%      0.105999\n",
      "3P%      0.281299\n",
      "TRB_G    0.316702\n",
      "STL_G    0.385466\n",
      "AST_G    0.398089\n",
      "BLK_G    0.502944\n",
      "dtype: float64\n",
      "MAPE for all:  0.311517707607232\n",
      "\n",
      "*** RMSE ***\n",
      "PTS_G    3.226304\n",
      "PER_w    3.296144\n",
      "TOV_G    0.554165\n",
      "FG%      0.067320\n",
      "FT%      0.113782\n",
      "3P%      0.142900\n",
      "TRB_G    1.490608\n",
      "STL_G    0.273704\n",
      "AST_G    0.965763\n",
      "BLK_G    0.218592\n",
      "dtype: float64\n",
      "RMSE for all:  1.0349281176998895\n"
     ]
    }
   ],
   "source": [
    "metrics1 = [\"PTS_G\",\"PER_w\"]\n",
    "metrics2 = [\"TOV_G\",\"FG%\",\"FT%\",\"3P%\"]\n",
    "metrics3 = [\"TRB_G\",\"STL_G\",]\n",
    "metrics4 = [\"AST_G\",\"BLK_G\"]\n",
    "\n",
    "metrics_list = [metrics1, metrics2, metrics3, metrics4]\n",
    "    \n",
    "print(\"start experiment - off/def with mean-standardized weights\")\n",
    "pred_all = pd.DataFrame()\n",
    "true_all = pd.DataFrame()\n",
    "for playerName in activePlayers:\n",
    "    target = Target(playerName, allPivotedTableDict, df_year)\n",
    "    donor = Donor(allPivotedTableDict, df_year)\n",
    "    \n",
    "    weights_list = getWeitghts(target, donor, metrics_list, expSetup, method=\"mean\")\n",
    "\n",
    "    mrsc = mRSC(donor, target, probObservation=1)\n",
    "    \n",
    "    player_pred = pd.DataFrame()\n",
    "    player_true = pd.DataFrame()\n",
    "    for i in range(len(metrics_list)):\n",
    "        mrsc.fit_threshold(metrics_list[i], weights_list[i], 2016, pred_length = 1, threshold = threshold, setup = expSetup)\n",
    "        pred = mrsc.predict()\n",
    "        true = mrsc.getTrue()\n",
    "        pred.columns = [playerName]\n",
    "        true.columns = [playerName]\n",
    "        player_pred = pd.concat([player_pred, pred], axis=0)\n",
    "        player_true = pd.concat([player_true, true], axis=0)\n",
    "        \n",
    "    pred_all = pd.concat([pred_all, player_pred], axis=1)\n",
    "    true_all = pd.concat([true_all, player_true], axis=1)\n",
    "\n",
    "###################\n",
    "mask = (true_all !=0 )\n",
    "mape = np.abs(pred_all - true_all) / true_all[mask]\n",
    "print(\"*** MAPE ***\")\n",
    "print(mape.mean(axis=1))\n",
    "print(\"MAPE for all: \", mape.mean().mean())\n",
    "rmse = utils.rmse_2d(true_all, pred_all)\n",
    "print()\n",
    "print(\"*** RMSE ***\")\n",
    "print(rmse)\n",
    "print(\"RMSE for all: \", rmse.mean())    "
   ]
  },
  {
   "cell_type": "markdown",
   "metadata": {},
   "source": [
    "## grouping - automatic"
   ]
  },
  {
   "cell_type": "code",
   "execution_count": 106,
   "metadata": {},
   "outputs": [
    {
     "name": "stdout",
     "output_type": "stream",
     "text": [
      "* start experiment\n",
      "['PTS_G', 'FG%', 'FT%', 'STL_G', 'TOV_G', 'BLK_G']\n",
      "['AST_G', 'PER_w', 'FG%', 'FT%']\n",
      "['TOV_G', 'PTS_G', 'BLK_G', 'FG%', 'FT%', 'STL_G']\n",
      "['TRB_G', 'FG%']\n",
      "['STL_G', 'FT%', 'FG%', 'PTS_G', 'PER_w', 'TOV_G', 'BLK_G', '3P_G']\n",
      "['BLK_G', 'FT%', 'TRB_G', 'PTS_G', 'FG%', 'STL_G', 'TOV_G']\n",
      "['3P_G', 'AST_G', 'PTS_G', 'BLK_G', 'TOV_G', 'FT%', 'FG%', 'STL_G', 'PER_w', 'TRB_G']\n",
      "['FG%', 'FT%', 'PER_w', 'STL_G']\n",
      "['FT%', 'FG%', 'PER_w', 'STL_G']\n",
      "['PER_w', 'FG%', 'FT%', 'STL_G']\n"
     ]
    }
   ],
   "source": [
    "print(\"* start experiment\")\n",
    "pred_all = pd.DataFrame()\n",
    "true_all = pd.DataFrame()\n",
    "\n",
    "# for playerName in activePlayers[:2]:\n",
    "playerName = activePlayers[2]\n",
    "\n",
    "target = Target(playerName, allPivotedTableDict, df_year)\n",
    "donor = Donor(allPivotedTableDict, df_year)\n",
    "\n",
    "metrics_list = getMetrics(target, donor, pred_year, allMetrics, threshold, expSetup)"
   ]
  },
  {
   "cell_type": "code",
   "execution_count": 107,
   "metadata": {},
   "outputs": [
    {
     "data": {
      "text/plain": [
       "[['PTS_G', 'TOV_G', 'STL_G', 'BLK_G'],\n",
       " ['AST_G'],\n",
       " ['PTS_G', 'TOV_G', 'STL_G', 'BLK_G'],\n",
       " ['TRB_G'],\n",
       " ['PTS_G', 'TOV_G', 'STL_G', 'BLK_G', '3P_G', 'FG%', 'FT%', 'PER_w'],\n",
       " ['PTS_G', 'TOV_G', 'STL_G', 'BLK_G'],\n",
       " ['STL_G', '3P_G'],\n",
       " ['STL_G', 'FG%', 'FT%', 'PER_w'],\n",
       " ['STL_G', 'FG%', 'FT%', 'PER_w'],\n",
       " ['STL_G', 'FG%', 'FT%', 'PER_w']]"
      ]
     },
     "execution_count": 107,
     "metadata": {},
     "output_type": "execute_result"
    }
   ],
   "source": [
    "metrics_list"
   ]
  },
  {
   "cell_type": "code",
   "execution_count": 108,
   "metadata": {},
   "outputs": [],
   "source": [
    "weights_list = getWeitghts(target, donor, metrics_list, expSetup, method=\"var\")\n",
    "\n",
    "mrsc = mRSC(donor, target, probObservation=1)\n",
    "\n",
    "player_pred = pd.DataFrame()\n",
    "player_true = pd.DataFrame()\n",
    "for i in range(len(metrics_list)):\n",
    "    mrsc.fit_threshold(metrics_list[i], weights_list[i], pred_year, pred_length = 1, threshold = threshold, setup = expSetup)\n",
    "\n",
    "    pred = mrsc.predict()\n",
    "    true = mrsc.getTrue()\n",
    "    pred.columns = [playerName]\n",
    "    true.columns = [playerName]\n",
    "\n",
    "    player_pred = pd.concat([player_pred, pred.loc[allMetrics[i],:]], axis=0)\n",
    "    player_true = pd.concat([player_true, pred.loc[allMetrics[i],:]], axis=0)\n",
    "\n",
    "pred_all = pd.concat([pred_all, player_pred], axis=1)\n",
    "true_all = pd.concat([true_all, player_true], axis=1)"
   ]
  },
  {
   "cell_type": "code",
   "execution_count": 113,
   "metadata": {},
   "outputs": [
    {
     "data": {
      "text/plain": [
       "Al-Farouq Aminu    12.9723\n",
       "Name: PER_w, dtype: object"
      ]
     },
     "execution_count": 113,
     "metadata": {},
     "output_type": "execute_result"
    }
   ],
   "source": [
    "pred.loc[\"PER_w\",:]"
   ]
  },
  {
   "cell_type": "code",
   "execution_count": 100,
   "metadata": {},
   "outputs": [],
   "source": [
    "def getMetrics(target, donor, pred_year, allMetrics, threshold, expSetup, boundary = \"threshold\"):\n",
    "    target_data = target.concat(allMetrics, pred_year, pred_length=1)\n",
    "\n",
    "    num_k = len(allMetrics)\n",
    "    total_index = int(target_data.shape[1] / num_k)\n",
    "    mat_form_method = expSetup[0]\n",
    "    \n",
    "    df_result = pd.DataFrame(0, columns = allMetrics, index = allMetrics)\n",
    "    for metric_of_interest in allMetrics:\n",
    "        df = donor.concat([metric_of_interest], 2016, total_index, method = mat_form_method)\n",
    "        apprx_rank = utils.approximate_rank(df, t = threshold)\n",
    "        energy_captured = utils.svdAanlysis(df, title=metric_of_interest, verbose = False)[apprx_rank-1]\n",
    "\n",
    "        if (boundary == \"threshold\"):\n",
    "            b = threshold\n",
    "        elif (boundary == \"energy\"):\n",
    "            b = energy_captured\n",
    "        else:\n",
    "            raise Exception(\"wrong parameter\")\n",
    "\n",
    "        metrics = [metric_of_interest]\n",
    "        candidates = copy.deepcopy(allMetrics)\n",
    "        candidates.remove(metric_of_interest)\n",
    "\n",
    "        while True:\n",
    "            energy_diff_df = pd.DataFrame()\n",
    "            for metric in candidates:\n",
    "                comb = metrics+[metric]\n",
    "                df = donor.concat(comb, 2016, total_index, method = mat_form_method)\n",
    "                energy_at_apprx_rank = utils.svdAanlysis(df, k=apprx_rank, verbose=False)[-1]\n",
    "                \n",
    "                if(energy_at_apprx_rank > b):\n",
    "                    energy_diff = np.abs(energy_at_apprx_rank - energy_captured)\n",
    "                    energy_diff_df = pd.concat([energy_diff_df, pd.DataFrame([[energy_diff]], index=[metric])], axis=0)\n",
    "        #             print(energy_diff)\n",
    "            if (energy_diff_df.shape[0] == 0):\n",
    "                break\n",
    "            new_metric = energy_diff_df.sort_values(0).index[0]\n",
    "            metrics = metrics + [new_metric]\n",
    "            candidates.remove(new_metric)\n",
    "        df_result.loc[metric_of_interest,metrics] = 1\n",
    "        print(metrics)\n",
    "        \n",
    "    metrics_list =[]\n",
    "    for i in range(num_k):\n",
    "        a = ((df_result.iloc[i,:]==1) & (df_result.iloc[:,i]==1))\n",
    "        metrics_list.append(a.index[a].values.tolist())\n",
    "\n",
    "    return metrics_list"
   ]
  },
  {
   "cell_type": "code",
   "execution_count": 98,
   "metadata": {},
   "outputs": [
    {
     "name": "stdout",
     "output_type": "stream",
     "text": [
      "['PTS_G']\n",
      "['AST_G', 'PER_w', '3P_G', 'BLK_G', 'TOV_G', 'STL_G', 'FT%', 'FG%']\n",
      "['TOV_G', 'PTS_G', '3P_G']\n",
      "['TRB_G']\n",
      "['STL_G', 'TRB_G', 'PER_w', '3P_G', 'TOV_G', 'BLK_G', 'FT%', 'FG%']\n",
      "['BLK_G', 'FT%', 'TRB_G', 'FG%', 'PTS_G', 'PER_w', '3P_G', 'TOV_G']\n",
      "['3P_G', 'FT%', 'FG%', 'TRB_G', 'TOV_G', 'PTS_G', 'AST_G', 'BLK_G', 'STL_G', 'PER_w']\n",
      "['FG%']\n",
      "['FT%']\n",
      "['PER_w']\n"
     ]
    }
   ],
   "source": [
    "m_list= getMetrics(target, donor, pred_year, allMetrics, threshold, expSetup)"
   ]
  },
  {
   "cell_type": "code",
   "execution_count": 101,
   "metadata": {},
   "outputs": [
    {
     "data": {
      "text/plain": [
       "[['PTS_G'],\n",
       " ['AST_G', '3P_G'],\n",
       " ['TOV_G', '3P_G'],\n",
       " ['TRB_G'],\n",
       " ['STL_G', '3P_G'],\n",
       " ['BLK_G', '3P_G'],\n",
       " ['AST_G', 'TOV_G', 'STL_G', 'BLK_G', '3P_G'],\n",
       " ['FG%'],\n",
       " ['FT%'],\n",
       " ['PER_w']]"
      ]
     },
     "execution_count": 101,
     "metadata": {},
     "output_type": "execute_result"
    }
   ],
   "source": [
    "m_list"
   ]
  },
  {
   "cell_type": "code",
   "execution_count": 102,
   "metadata": {},
   "outputs": [
    {
     "name": "stdout",
     "output_type": "stream",
     "text": [
      "['PTS_G', 'FG%', 'FT%']\n",
      "['AST_G', 'PER_w', '3P_G', 'BLK_G', 'TOV_G', 'STL_G', 'FT%', 'FG%']\n",
      "['TOV_G', 'PTS_G', '3P_G', 'FG%', 'FT%', 'STL_G', 'PER_w', 'BLK_G']\n",
      "['TRB_G', 'FG%']\n",
      "['STL_G', 'FT%', 'TRB_G', 'PTS_G', 'FG%', 'BLK_G', 'TOV_G', '3P_G', 'PER_w']\n",
      "['BLK_G', 'AST_G', 'PTS_G', 'PER_w', '3P_G', 'TOV_G', 'FT%', 'FG%', 'STL_G']\n",
      "['3P_G', 'FT%', 'FG%', 'AST_G', 'PTS_G', 'TRB_G', 'BLK_G', 'STL_G', 'TOV_G', 'PER_w']\n",
      "['FG%', 'FT%', 'PER_w']\n",
      "['FT%', 'FG%', 'PER_w']\n",
      "['PER_w', 'FG%', 'FT%']\n"
     ]
    }
   ],
   "source": [
    "m_list2 = getMetrics(target, donor, pred_year, allMetrics, threshold, expSetup, \"threshold\")"
   ]
  },
  {
   "cell_type": "code",
   "execution_count": 104,
   "metadata": {},
   "outputs": [
    {
     "data": {
      "text/plain": [
       "[['PTS_G'],\n",
       " ['AST_G', 'BLK_G', '3P_G'],\n",
       " ['TOV_G', 'STL_G', 'BLK_G', '3P_G'],\n",
       " ['TRB_G'],\n",
       " ['TOV_G', 'STL_G', 'BLK_G', '3P_G'],\n",
       " ['AST_G', 'TOV_G', 'STL_G', 'BLK_G', '3P_G'],\n",
       " ['AST_G', 'TOV_G', 'STL_G', 'BLK_G', '3P_G'],\n",
       " ['FG%', 'FT%', 'PER_w'],\n",
       " ['FG%', 'FT%', 'PER_w'],\n",
       " ['FG%', 'FT%', 'PER_w']]"
      ]
     },
     "execution_count": 104,
     "metadata": {},
     "output_type": "execute_result"
    }
   ],
   "source": [
    "m_list2"
   ]
  },
  {
   "cell_type": "code",
   "execution_count": 105,
   "metadata": {},
   "outputs": [
    {
     "data": {
      "text/html": [
       "<div>\n",
       "<style scoped>\n",
       "    .dataframe tbody tr th:only-of-type {\n",
       "        vertical-align: middle;\n",
       "    }\n",
       "\n",
       "    .dataframe tbody tr th {\n",
       "        vertical-align: top;\n",
       "    }\n",
       "\n",
       "    .dataframe thead th {\n",
       "        text-align: right;\n",
       "    }\n",
       "</style>\n",
       "<table border=\"1\" class=\"dataframe\">\n",
       "  <thead>\n",
       "    <tr style=\"text-align: right;\">\n",
       "      <th></th>\n",
       "      <th>PTS_G</th>\n",
       "      <th>AST_G</th>\n",
       "      <th>TOV_G</th>\n",
       "      <th>TRB_G</th>\n",
       "      <th>STL_G</th>\n",
       "      <th>BLK_G</th>\n",
       "      <th>3P_G</th>\n",
       "      <th>FG%</th>\n",
       "      <th>FT%</th>\n",
       "      <th>PER_w</th>\n",
       "    </tr>\n",
       "  </thead>\n",
       "  <tbody>\n",
       "    <tr>\n",
       "      <td>PTS_G</td>\n",
       "      <td>1</td>\n",
       "      <td>0</td>\n",
       "      <td>0</td>\n",
       "      <td>0</td>\n",
       "      <td>0</td>\n",
       "      <td>0</td>\n",
       "      <td>0</td>\n",
       "      <td>1</td>\n",
       "      <td>1</td>\n",
       "      <td>0</td>\n",
       "    </tr>\n",
       "    <tr>\n",
       "      <td>AST_G</td>\n",
       "      <td>0</td>\n",
       "      <td>1</td>\n",
       "      <td>1</td>\n",
       "      <td>0</td>\n",
       "      <td>1</td>\n",
       "      <td>1</td>\n",
       "      <td>1</td>\n",
       "      <td>1</td>\n",
       "      <td>1</td>\n",
       "      <td>1</td>\n",
       "    </tr>\n",
       "    <tr>\n",
       "      <td>TOV_G</td>\n",
       "      <td>1</td>\n",
       "      <td>0</td>\n",
       "      <td>1</td>\n",
       "      <td>0</td>\n",
       "      <td>1</td>\n",
       "      <td>1</td>\n",
       "      <td>1</td>\n",
       "      <td>1</td>\n",
       "      <td>1</td>\n",
       "      <td>1</td>\n",
       "    </tr>\n",
       "    <tr>\n",
       "      <td>TRB_G</td>\n",
       "      <td>0</td>\n",
       "      <td>0</td>\n",
       "      <td>0</td>\n",
       "      <td>1</td>\n",
       "      <td>0</td>\n",
       "      <td>0</td>\n",
       "      <td>0</td>\n",
       "      <td>1</td>\n",
       "      <td>0</td>\n",
       "      <td>0</td>\n",
       "    </tr>\n",
       "    <tr>\n",
       "      <td>STL_G</td>\n",
       "      <td>1</td>\n",
       "      <td>0</td>\n",
       "      <td>1</td>\n",
       "      <td>1</td>\n",
       "      <td>1</td>\n",
       "      <td>1</td>\n",
       "      <td>1</td>\n",
       "      <td>1</td>\n",
       "      <td>1</td>\n",
       "      <td>1</td>\n",
       "    </tr>\n",
       "    <tr>\n",
       "      <td>BLK_G</td>\n",
       "      <td>1</td>\n",
       "      <td>1</td>\n",
       "      <td>1</td>\n",
       "      <td>0</td>\n",
       "      <td>1</td>\n",
       "      <td>1</td>\n",
       "      <td>1</td>\n",
       "      <td>1</td>\n",
       "      <td>1</td>\n",
       "      <td>1</td>\n",
       "    </tr>\n",
       "    <tr>\n",
       "      <td>3P_G</td>\n",
       "      <td>1</td>\n",
       "      <td>1</td>\n",
       "      <td>1</td>\n",
       "      <td>1</td>\n",
       "      <td>1</td>\n",
       "      <td>1</td>\n",
       "      <td>1</td>\n",
       "      <td>1</td>\n",
       "      <td>1</td>\n",
       "      <td>1</td>\n",
       "    </tr>\n",
       "    <tr>\n",
       "      <td>FG%</td>\n",
       "      <td>0</td>\n",
       "      <td>0</td>\n",
       "      <td>0</td>\n",
       "      <td>0</td>\n",
       "      <td>0</td>\n",
       "      <td>0</td>\n",
       "      <td>0</td>\n",
       "      <td>1</td>\n",
       "      <td>1</td>\n",
       "      <td>1</td>\n",
       "    </tr>\n",
       "    <tr>\n",
       "      <td>FT%</td>\n",
       "      <td>0</td>\n",
       "      <td>0</td>\n",
       "      <td>0</td>\n",
       "      <td>0</td>\n",
       "      <td>0</td>\n",
       "      <td>0</td>\n",
       "      <td>0</td>\n",
       "      <td>1</td>\n",
       "      <td>1</td>\n",
       "      <td>1</td>\n",
       "    </tr>\n",
       "    <tr>\n",
       "      <td>PER_w</td>\n",
       "      <td>0</td>\n",
       "      <td>0</td>\n",
       "      <td>0</td>\n",
       "      <td>0</td>\n",
       "      <td>0</td>\n",
       "      <td>0</td>\n",
       "      <td>0</td>\n",
       "      <td>1</td>\n",
       "      <td>1</td>\n",
       "      <td>1</td>\n",
       "    </tr>\n",
       "  </tbody>\n",
       "</table>\n",
       "</div>"
      ],
      "text/plain": [
       "       PTS_G  AST_G  TOV_G  TRB_G  STL_G  BLK_G  3P_G  FG%  FT%  PER_w\n",
       "PTS_G      1      0      0      0      0      0     0    1    1      0\n",
       "AST_G      0      1      1      0      1      1     1    1    1      1\n",
       "TOV_G      1      0      1      0      1      1     1    1    1      1\n",
       "TRB_G      0      0      0      1      0      0     0    1    0      0\n",
       "STL_G      1      0      1      1      1      1     1    1    1      1\n",
       "BLK_G      1      1      1      0      1      1     1    1    1      1\n",
       "3P_G       1      1      1      1      1      1     1    1    1      1\n",
       "FG%        0      0      0      0      0      0     0    1    1      1\n",
       "FT%        0      0      0      0      0      0     0    1    1      1\n",
       "PER_w      0      0      0      0      0      0     0    1    1      1"
      ]
     },
     "execution_count": 105,
     "metadata": {},
     "output_type": "execute_result"
    }
   ],
   "source": [
    "df"
   ]
  },
  {
   "cell_type": "code",
   "execution_count": null,
   "metadata": {},
   "outputs": [],
   "source": []
  },
  {
   "cell_type": "code",
   "execution_count": 6,
   "metadata": {},
   "outputs": [
    {
     "name": "stdout",
     "output_type": "stream",
     "text": [
      "* start experiment\n",
      "['PTS_G', 'FG%', 'FT%']\n",
      "['AST_G', 'PER_w', '3P_G', 'BLK_G', 'TOV_G', 'STL_G', 'FT%', 'FG%']\n"
     ]
    },
    {
     "ename": "KeyboardInterrupt",
     "evalue": "",
     "output_type": "error",
     "traceback": [
      "\u001b[0;31m---------------------------------------------------------------------------\u001b[0m",
      "\u001b[0;31mKeyboardInterrupt\u001b[0m                         Traceback (most recent call last)",
      "\u001b[0;32m<ipython-input-6-f24a3772eb91>\u001b[0m in \u001b[0;36m<module>\u001b[0;34m\u001b[0m\n\u001b[1;32m     58\u001b[0m \u001b[0mdonor\u001b[0m \u001b[0;34m=\u001b[0m \u001b[0mDonor\u001b[0m\u001b[0;34m(\u001b[0m\u001b[0mallPivotedTableDict\u001b[0m\u001b[0;34m,\u001b[0m \u001b[0mdf_year\u001b[0m\u001b[0;34m)\u001b[0m\u001b[0;34m\u001b[0m\u001b[0;34m\u001b[0m\u001b[0m\n\u001b[1;32m     59\u001b[0m \u001b[0;34m\u001b[0m\u001b[0m\n\u001b[0;32m---> 60\u001b[0;31m \u001b[0mmetrics_list\u001b[0m \u001b[0;34m=\u001b[0m \u001b[0mgetMetrics\u001b[0m\u001b[0;34m(\u001b[0m\u001b[0mtarget\u001b[0m\u001b[0;34m,\u001b[0m \u001b[0mdonor\u001b[0m\u001b[0;34m,\u001b[0m \u001b[0mpred_year\u001b[0m\u001b[0;34m,\u001b[0m \u001b[0mallMetrics\u001b[0m\u001b[0;34m,\u001b[0m \u001b[0mthreshold\u001b[0m\u001b[0;34m,\u001b[0m \u001b[0mexpSetup\u001b[0m\u001b[0;34m)\u001b[0m\u001b[0;34m\u001b[0m\u001b[0;34m\u001b[0m\u001b[0m\n\u001b[0m\u001b[1;32m     61\u001b[0m \u001b[0mweights_list\u001b[0m \u001b[0;34m=\u001b[0m \u001b[0mgetWeitghts\u001b[0m\u001b[0;34m(\u001b[0m\u001b[0mtarget\u001b[0m\u001b[0;34m,\u001b[0m \u001b[0mdonor\u001b[0m\u001b[0;34m,\u001b[0m \u001b[0mmetrics_list\u001b[0m\u001b[0;34m,\u001b[0m \u001b[0mexpSetup\u001b[0m\u001b[0;34m,\u001b[0m \u001b[0mmethod\u001b[0m\u001b[0;34m=\u001b[0m\u001b[0;34m\"var\"\u001b[0m\u001b[0;34m)\u001b[0m\u001b[0;34m\u001b[0m\u001b[0;34m\u001b[0m\u001b[0m\n\u001b[1;32m     62\u001b[0m \u001b[0;34m\u001b[0m\u001b[0m\n",
      "\u001b[0;32m<ipython-input-2-ea9015681198>\u001b[0m in \u001b[0;36mgetMetrics\u001b[0;34m(target, donor, pred_year, allMetrics, threshold, expSetup)\u001b[0m\n\u001b[1;32m     54\u001b[0m         \u001b[0mdf\u001b[0m \u001b[0;34m=\u001b[0m \u001b[0mdonor\u001b[0m\u001b[0;34m.\u001b[0m\u001b[0mconcat\u001b[0m\u001b[0;34m(\u001b[0m\u001b[0;34m[\u001b[0m\u001b[0mmetric_of_interest\u001b[0m\u001b[0;34m]\u001b[0m\u001b[0;34m,\u001b[0m \u001b[0;36m2016\u001b[0m\u001b[0;34m,\u001b[0m \u001b[0mtotal_index\u001b[0m\u001b[0;34m,\u001b[0m \u001b[0mmethod\u001b[0m \u001b[0;34m=\u001b[0m \u001b[0mmat_form_method\u001b[0m\u001b[0;34m)\u001b[0m\u001b[0;34m\u001b[0m\u001b[0;34m\u001b[0m\u001b[0m\n\u001b[1;32m     55\u001b[0m         \u001b[0mapprx_rank\u001b[0m \u001b[0;34m=\u001b[0m \u001b[0mutils\u001b[0m\u001b[0;34m.\u001b[0m\u001b[0mapproximate_rank\u001b[0m\u001b[0;34m(\u001b[0m\u001b[0mdf\u001b[0m\u001b[0;34m,\u001b[0m \u001b[0mt\u001b[0m \u001b[0;34m=\u001b[0m \u001b[0mthreshold\u001b[0m\u001b[0;34m)\u001b[0m\u001b[0;34m\u001b[0m\u001b[0;34m\u001b[0m\u001b[0m\n\u001b[0;32m---> 56\u001b[0;31m         \u001b[0menergy_captured\u001b[0m \u001b[0;34m=\u001b[0m \u001b[0mutils\u001b[0m\u001b[0;34m.\u001b[0m\u001b[0msvdAanlysis\u001b[0m\u001b[0;34m(\u001b[0m\u001b[0mdf\u001b[0m\u001b[0;34m,\u001b[0m \u001b[0mtitle\u001b[0m\u001b[0;34m=\u001b[0m\u001b[0mmetric_of_interest\u001b[0m\u001b[0;34m,\u001b[0m \u001b[0mverbose\u001b[0m \u001b[0;34m=\u001b[0m \u001b[0;32mFalse\u001b[0m\u001b[0;34m)\u001b[0m\u001b[0;34m[\u001b[0m\u001b[0mapprx_rank\u001b[0m\u001b[0;34m-\u001b[0m\u001b[0;36m1\u001b[0m\u001b[0;34m]\u001b[0m\u001b[0;34m\u001b[0m\u001b[0;34m\u001b[0m\u001b[0m\n\u001b[0m\u001b[1;32m     57\u001b[0m \u001b[0;34m\u001b[0m\u001b[0m\n\u001b[1;32m     58\u001b[0m         \u001b[0mmetrics\u001b[0m \u001b[0;34m=\u001b[0m \u001b[0;34m[\u001b[0m\u001b[0mmetric_of_interest\u001b[0m\u001b[0;34m]\u001b[0m\u001b[0;34m\u001b[0m\u001b[0;34m\u001b[0m\u001b[0m\n",
      "\u001b[0;32m~/Documents/GitHub/mrsc/src/utils.py\u001b[0m in \u001b[0;36msvdAanlysis\u001b[0;34m(df, k, title, verbose)\u001b[0m\n\u001b[1;32m     20\u001b[0m               \u001b[0;32mif\u001b[0m \u001b[0;32mFalse\u001b[0m\u001b[0;34m,\u001b[0m \u001b[0mdoes\u001b[0m \u001b[0;32mnot\u001b[0m \u001b[0mprint\u001b[0m \u001b[0manything\u001b[0m \u001b[0;32mand\u001b[0m \u001b[0mjust\u001b[0m \u001b[0;32mreturn\u001b[0m \u001b[0menergy_list\u001b[0m\u001b[0;34m\u001b[0m\u001b[0;34m\u001b[0m\u001b[0m\n\u001b[1;32m     21\u001b[0m     \"\"\"\n\u001b[0;32m---> 22\u001b[0;31m     \u001b[0mu\u001b[0m\u001b[0;34m,\u001b[0m \u001b[0ms\u001b[0m\u001b[0;34m,\u001b[0m \u001b[0mv\u001b[0m \u001b[0;34m=\u001b[0m \u001b[0mnp\u001b[0m\u001b[0;34m.\u001b[0m\u001b[0mlinalg\u001b[0m\u001b[0;34m.\u001b[0m\u001b[0msvd\u001b[0m\u001b[0;34m(\u001b[0m\u001b[0mdf\u001b[0m\u001b[0;34m)\u001b[0m\u001b[0;34m\u001b[0m\u001b[0;34m\u001b[0m\u001b[0m\n\u001b[0m\u001b[1;32m     23\u001b[0m \u001b[0;34m\u001b[0m\u001b[0m\n\u001b[1;32m     24\u001b[0m     \u001b[0;32mif\u001b[0m \u001b[0mverbose\u001b[0m\u001b[0;34m:\u001b[0m\u001b[0;34m\u001b[0m\u001b[0;34m\u001b[0m\u001b[0m\n",
      "\u001b[0;32m<__array_function__ internals>\u001b[0m in \u001b[0;36msvd\u001b[0;34m(*args, **kwargs)\u001b[0m\n",
      "\u001b[0;32m~/Documents/GitHub/mrsc/venv/lib/python3.6/site-packages/numpy/linalg/linalg.py\u001b[0m in \u001b[0;36msvd\u001b[0;34m(a, full_matrices, compute_uv, hermitian)\u001b[0m\n\u001b[1;32m   1634\u001b[0m \u001b[0;34m\u001b[0m\u001b[0m\n\u001b[1;32m   1635\u001b[0m         \u001b[0msignature\u001b[0m \u001b[0;34m=\u001b[0m \u001b[0;34m'D->DdD'\u001b[0m \u001b[0;32mif\u001b[0m \u001b[0misComplexType\u001b[0m\u001b[0;34m(\u001b[0m\u001b[0mt\u001b[0m\u001b[0;34m)\u001b[0m \u001b[0;32melse\u001b[0m \u001b[0;34m'd->ddd'\u001b[0m\u001b[0;34m\u001b[0m\u001b[0;34m\u001b[0m\u001b[0m\n\u001b[0;32m-> 1636\u001b[0;31m         \u001b[0mu\u001b[0m\u001b[0;34m,\u001b[0m \u001b[0ms\u001b[0m\u001b[0;34m,\u001b[0m \u001b[0mvh\u001b[0m \u001b[0;34m=\u001b[0m \u001b[0mgufunc\u001b[0m\u001b[0;34m(\u001b[0m\u001b[0ma\u001b[0m\u001b[0;34m,\u001b[0m \u001b[0msignature\u001b[0m\u001b[0;34m=\u001b[0m\u001b[0msignature\u001b[0m\u001b[0;34m,\u001b[0m \u001b[0mextobj\u001b[0m\u001b[0;34m=\u001b[0m\u001b[0mextobj\u001b[0m\u001b[0;34m)\u001b[0m\u001b[0;34m\u001b[0m\u001b[0;34m\u001b[0m\u001b[0m\n\u001b[0m\u001b[1;32m   1637\u001b[0m         \u001b[0mu\u001b[0m \u001b[0;34m=\u001b[0m \u001b[0mu\u001b[0m\u001b[0;34m.\u001b[0m\u001b[0mastype\u001b[0m\u001b[0;34m(\u001b[0m\u001b[0mresult_t\u001b[0m\u001b[0;34m,\u001b[0m \u001b[0mcopy\u001b[0m\u001b[0;34m=\u001b[0m\u001b[0;32mFalse\u001b[0m\u001b[0;34m)\u001b[0m\u001b[0;34m\u001b[0m\u001b[0;34m\u001b[0m\u001b[0m\n\u001b[1;32m   1638\u001b[0m         \u001b[0ms\u001b[0m \u001b[0;34m=\u001b[0m \u001b[0ms\u001b[0m\u001b[0;34m.\u001b[0m\u001b[0mastype\u001b[0m\u001b[0;34m(\u001b[0m\u001b[0m_realType\u001b[0m\u001b[0;34m(\u001b[0m\u001b[0mresult_t\u001b[0m\u001b[0;34m)\u001b[0m\u001b[0;34m,\u001b[0m \u001b[0mcopy\u001b[0m\u001b[0;34m=\u001b[0m\u001b[0;32mFalse\u001b[0m\u001b[0;34m)\u001b[0m\u001b[0;34m\u001b[0m\u001b[0;34m\u001b[0m\u001b[0m\n",
      "\u001b[0;31mKeyboardInterrupt\u001b[0m: "
     ]
    }
   ],
   "source": [
    "\n",
    "\n",
    "print(\"* start experiment\")\n",
    "pred_all = pd.DataFrame()\n",
    "true_all = pd.DataFrame()\n",
    "\n",
    "# for playerName in activePlayers[:2]:\n",
    "playerName = activePlayers[0]\n",
    "\n",
    "target = Target(playerName, allPivotedTableDict, df_year)\n",
    "donor = Donor(allPivotedTableDict, df_year)\n",
    "\n",
    "metrics_list = getMetrics(target, donor, pred_year, allMetrics, threshold, expSetup)\n",
    "weights_list = getWeitghts(target, donor, metrics_list, expSetup, method=\"var\")\n",
    "\n",
    "mrsc = mRSC(donor, target, probObservation=1)\n",
    "\n",
    "player_pred = pd.DataFrame()\n",
    "player_true = pd.DataFrame()\n",
    "for i in range(len(metrics_list)):\n",
    "    mrsc.fit_threshold(metrics_list[i], weights_list[i], pred_year, pred_length = 1, threshold = threshold, setup = expSetup)\n",
    "\n",
    "    pred = mrsc.predict()\n",
    "    true = mrsc.getTrue()\n",
    "    pred.columns = [playerName]\n",
    "    true.columns = [playerName]\n",
    "\n",
    "    player_pred = pd.concat([player_pred, pred.iloc[0:1,:]], axis=0)\n",
    "    player_true = pd.concat([player_true, true.iloc[0:1,:]], axis=0)\n",
    "\n",
    "pred_all = pd.concat([pred_all, player_pred], axis=1)\n",
    "true_all = pd.concat([true_all, player_true], axis=1)"
   ]
  },
  {
   "cell_type": "code",
   "execution_count": null,
   "metadata": {},
   "outputs": [],
   "source": []
  },
  {
   "cell_type": "markdown",
   "metadata": {},
   "source": [
    "# diagnostic test"
   ]
  },
  {
   "cell_type": "code",
   "execution_count": 136,
   "metadata": {},
   "outputs": [],
   "source": [
    "pred_year = 2016\n",
    "playerName = activePlayers[6]\n",
    "\n",
    "target = Target(playerName, allPivotedTableDict, df_year)\n",
    "donor = Donor(allPivotedTableDict, df_year)\n",
    "metrics = allMetrics\n",
    "\n",
    "target_data = target.concat(metrics, pred_year, pred_length=1)\n",
    "\n",
    "num_k = len(metrics)\n",
    "total_index = int(target_data.shape[1] / num_k)\n",
    "mat_form_method = expSetup[0] # \"fixed\"\n",
    "\n",
    "donor_dict = donor.dict(allMetrics, 2016, total_index, method = mat_form_method)"
   ]
  },
  {
   "cell_type": "markdown",
   "metadata": {},
   "source": [
    "- metric of interest = [\"PTS_G\"]\n",
    "- candidates = all_metrics"
   ]
  },
  {
   "cell_type": "code",
   "execution_count": 141,
   "metadata": {},
   "outputs": [
    {
     "name": "stdout",
     "output_type": "stream",
     "text": [
      "7\n"
     ]
    },
    {
     "data": {
      "image/png": "[encoded data removed]",
      "text/plain": [
       "<Figure size 432x288 with 1 Axes>"
      ]
     },
     "metadata": {
      "needs_background": "light"
     },
     "output_type": "display_data"
    },
    {
     "name": "stdout",
     "output_type": "stream",
     "text": [
      "Energy up until 1 th singular value:  0.8589822466752967\n",
      "Energy up until 2 th singular value:  0.9311203350630964\n",
      "Energy up until 3 th singular value:  0.9513693000289403\n",
      "Energy up until 4 th singular value:  0.9585881316825924\n",
      "Energy up until 5 th singular value:  0.9649717527090856\n",
      "Energy up until 6 th singular value:  0.9693517690320811\n",
      "Energy up until 7 th singular value:  0.9729518165535392\n",
      "0.0028485689390677082\n"
     ]
    },
    {
     "data": {
      "image/png": "[encoded data removed]",
      "text/plain": [
       "<Figure size 432x288 with 1 Axes>"
      ]
     },
     "metadata": {
      "needs_background": "light"
     },
     "output_type": "display_data"
    },
    {
     "name": "stdout",
     "output_type": "stream",
     "text": [
      "Energy up until 1 th singular value:  0.7974522455988441\n",
      "Energy up until 2 th singular value:  0.9045232233844273\n",
      "Energy up until 3 th singular value:  0.9347920049772268\n",
      "Energy up until 4 th singular value:  0.9503831796962146\n",
      "Energy up until 5 th singular value:  0.9594905115069434\n",
      "Energy up until 6 th singular value:  0.9679240195535738\n",
      "Energy up until 7 th singular value:  0.9737304686013524\n",
      "0.002069916891254575\n"
     ]
    },
    {
     "data": {
      "image/png": "[encoded data removed]",
      "text/plain": [
       "<Figure size 432x288 with 1 Axes>"
      ]
     },
     "metadata": {
      "needs_background": "light"
     },
     "output_type": "display_data"
    },
    {
     "name": "stdout",
     "output_type": "stream",
     "text": [
      "Energy up until 1 th singular value:  0.859656795228016\n",
      "Energy up until 2 th singular value:  0.9296219217729459\n",
      "Energy up until 3 th singular value:  0.9490443119825018\n",
      "Energy up until 4 th singular value:  0.9566183333857605\n",
      "Energy up until 5 th singular value:  0.9627255959347738\n",
      "Energy up until 6 th singular value:  0.9669278023329062\n",
      "Energy up until 7 th singular value:  0.9708438453396121\n",
      "0.004956540152994848\n"
     ]
    },
    {
     "data": {
      "image/png": "[encoded data removed]",
      "text/plain": [
       "<Figure size 432x288 with 1 Axes>"
      ]
     },
     "metadata": {
      "needs_background": "light"
     },
     "output_type": "display_data"
    },
    {
     "name": "stdout",
     "output_type": "stream",
     "text": [
      "Energy up until 1 th singular value:  0.8665814223846152\n",
      "Energy up until 2 th singular value:  0.9294603771075871\n",
      "Energy up until 3 th singular value:  0.9473803305940064\n",
      "Energy up until 4 th singular value:  0.9578710435611161\n",
      "Energy up until 5 th singular value:  0.963355131734096\n",
      "Energy up until 6 th singular value:  0.9685680238076878\n",
      "Energy up until 7 th singular value:  0.972300906002448\n",
      "0.003499479490158941\n",
      "['3P_G', 'FG%', 'TOV_G', 'FT%']\n"
     ]
    }
   ],
   "source": [
    "metric_of_interest = \"3P_G\"\n",
    "threshold = 0.97\n",
    "\n",
    "############\n",
    "df = donor.concat([metric_of_interest], 2016, total_index, method = mat_form_method)\n",
    "apprx_rank = utils.approximate_rank(df, t = 0.97)\n",
    "energy_captured = utils.svdAanlysis(df, title=metric_of_interest, verbose = False, k=apprx_rank)[apprx_rank-1]\n",
    "\n",
    "metrics = [metric_of_interest]\n",
    "candidates = copy.deepcopy(allMetrics)\n",
    "candidates.remove(metric_of_interest)\n",
    "\n",
    "while True:\n",
    "    energy_diff_df = pd.DataFrame()\n",
    "    for metric in candidates:\n",
    "        comb = metrics+[metric]\n",
    "        df = donor.concat(comb, 2016, total_index, method = mat_form_method)\n",
    "        if (utils.approximate_rank(df, t = 0.97) == apprx_rank):\n",
    "            energy_diff = np.abs(utils.svdAanlysis(df, k=apprx_rank, verbose=True)[-1] - energy_captured)\n",
    "            energy_diff_df = pd.concat([energy_diff_df, pd.DataFrame([[energy_diff]], index=[metric])], axis=0)\n",
    "            print(energy_diff)\n",
    "    if (energy_diff_df.shape[0] == 0):\n",
    "        break\n",
    "    new_metric = energy_diff_df.sort_values(0).index[0]\n",
    "    metrics = metrics + [new_metric]\n",
    "    candidates.remove(new_metric)\n",
    "\n",
    "print(metrics)"
   ]
  },
  {
   "cell_type": "code",
   "execution_count": 92,
   "metadata": {
    "scrolled": true
   },
   "outputs": [
    {
     "name": "stdout",
     "output_type": "stream",
     "text": [
      "PTS_G\n",
      "['PTS_G', 'FG%', 'FT%', 'STL_G', 'TOV_G']\n",
      "\n",
      "AST_G\n",
      "['AST_G', 'PER_w', 'TOV_G', 'FG%', 'FT%', 'STL_G', 'BLK_G', '3P_G']\n",
      "\n",
      "TOV_G\n",
      "['TOV_G', 'PTS_G', 'BLK_G', 'FG%', 'FT%']\n",
      "\n",
      "TRB_G\n",
      "['TRB_G', 'FG%']\n",
      "\n",
      "STL_G\n",
      "['STL_G', 'FT%', 'FG%', 'TRB_G', 'PER_w', '3P_G', 'TOV_G', 'BLK_G']\n",
      "\n",
      "BLK_G\n",
      "['BLK_G', 'AST_G', 'FG%']\n",
      "\n",
      "3P_G\n",
      "['3P_G', 'FT%', 'FG%', 'TRB_G', 'BLK_G', 'PTS_G', 'PER_w', 'AST_G', 'STL_G']\n",
      "\n",
      "FG%\n",
      "['FG%', 'FT%', 'PER_w', 'STL_G']\n",
      "\n",
      "FT%\n",
      "['FT%', 'FG%', 'PER_w', 'STL_G']\n",
      "\n",
      "PER_w\n",
      "['PER_w', 'FG%', 'FT%', 'STL_G']\n",
      "\n"
     ]
    }
   ],
   "source": [
    "threshold = 0.97\n",
    "\n",
    "for metric_of_interest in allMetrics:\n",
    "\n",
    "    ############\n",
    "    df = donor.concat([metric_of_interest], 2016, total_index, method = mat_form_method)\n",
    "    apprx_rank = utils.approximate_rank(df, t = 0.97)\n",
    "    energy_captured = utils.svdAanlysis(df, title=metric_of_interest, verbose = False)[apprx_rank-1]\n",
    "\n",
    "    metrics = [metric_of_interest]\n",
    "    candidates = copy.deepcopy(allMetrics)\n",
    "    candidates.remove(metric_of_interest)\n",
    "\n",
    "    while True:\n",
    "        energy_diff_df = pd.DataFrame()\n",
    "        for metric in candidates:\n",
    "            comb = metrics+[metric]\n",
    "            df = donor.concat(comb, 2016, total_index, method = mat_form_method)\n",
    "\n",
    "            if (utils.approximate_rank(df, t = 0.97) == apprx_rank):\n",
    "\n",
    "                energy_diff = np.abs(utils.svdAanlysis(df, k=apprx_rank, verbose=False)[-1] - energy_captured)\n",
    "                energy_diff_df = pd.concat([energy_diff_df, pd.DataFrame([[energy_diff]], index=[metric])], axis=0)\n",
    "    #             print(energy_diff)\n",
    "        if (energy_diff_df.shape[0] == 0):\n",
    "            break\n",
    "        new_metric = energy_diff_df.sort_values(0).index[0]\n",
    "        metrics = metrics + [new_metric]\n",
    "        candidates.remove(new_metric)\n",
    "\n",
    "    print(metric_of_interest)\n",
    "    print(metrics)\n",
    "    print()"
   ]
  },
  {
   "cell_type": "code",
   "execution_count": 100,
   "metadata": {},
   "outputs": [
    {
     "name": "stdout",
     "output_type": "stream",
     "text": [
      "* importing data\n",
      "* preparing data\n"
     ]
    }
   ],
   "source": []
  },
  {
   "cell_type": "code",
   "execution_count": null,
   "metadata": {},
   "outputs": [],
   "source": []
  },
  {
   "cell_type": "code",
   "execution_count": null,
   "metadata": {},
   "outputs": [],
   "source": []
  },
  {
   "cell_type": "code",
   "execution_count": null,
   "metadata": {},
   "outputs": [],
   "source": []
  },
  {
   "cell_type": "code",
   "execution_count": null,
   "metadata": {},
   "outputs": [],
   "source": []
  },
  {
   "cell_type": "code",
   "execution_count": null,
   "metadata": {},
   "outputs": [],
   "source": []
  },
  {
   "cell_type": "code",
   "execution_count": null,
   "metadata": {},
   "outputs": [],
   "source": []
  }
 ],
 "metadata": {
  "kernelspec": {
   "display_name": "Python 3",
   "language": "python",
   "name": "python3"
  },
  "language_info": {
   "codemirror_mode": {
    "name": "ipython",
    "version": 3
   },
   "file_extension": ".py",
   "mimetype": "text/x-python",
   "name": "python",
   "nbconvert_exporter": "python",
   "pygments_lexer": "ipython3",
   "version": "3.6.7"
  }
 },
 "nbformat": 4,
 "nbformat_minor": 2
}
