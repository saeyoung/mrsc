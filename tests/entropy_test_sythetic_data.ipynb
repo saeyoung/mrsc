{
 "cells": [
  {
   "cell_type": "code",
   "execution_count": 1,
   "metadata": {},
   "outputs": [],
   "source": [
    "import sys, os\n",
    "from matplotlib import pyplot as plt\n",
    "import numpy as np\n",
    "import pandas as pd\n",
    "import copy\n",
    "import pickle\n",
    "\n",
    "# for entropy\n",
    "import zlib\n",
    "import re\n",
    "import math\n",
    "from io import StringIO\n",
    "from sklearn.linear_model import LinearRegression\n",
    "\n",
    "import pylab \n",
    "import scipy.stats as stats\n",
    "from scipy.stats import entropy\n",
    "from scipy.stats import bernoulli\n",
    "from math import log, e\n",
    "import timeit\n",
    "from sklearn.metrics import r2_score\n",
    "from statsmodels.tsa.seasonal import seasonal_decompose\n",
    "from statsmodels.tsa.arima_model import ARMA\n",
    "\n",
    "plt.rcParams.update({'font.size': 14})"
   ]
  },
  {
   "cell_type": "markdown",
   "metadata": {},
   "source": [
    "# LZW Compression"
   ]
  },
  {
   "cell_type": "code",
   "execution_count": 25,
   "metadata": {},
   "outputs": [],
   "source": [
    "def compress(uncompressed):\n",
    "    \"\"\"Compress a string to a list of output symbols.\"\"\"\n",
    " \n",
    "    # Build the dictionary.\n",
    "    dict_size = 256\n",
    "    dictionary = {chr(i): i for i in range(dict_size)}\n",
    "    \n",
    "    w = \"\"\n",
    "    result = []\n",
    "    for c in uncompressed:\n",
    "        wc = w + c\n",
    "        if wc in dictionary:\n",
    "            w = wc\n",
    "        else:\n",
    "            result.append(dictionary[w])\n",
    "            # Add wc to the dictionary.\n",
    "            dictionary[wc] = dict_size\n",
    "            dict_size += 1\n",
    "            w = c\n",
    " \n",
    "    # Output the code for w.\n",
    "    if w:\n",
    "        result.append(dictionary[w])\n",
    "    return result\n",
    "\n",
    "def decompress(compressed):\n",
    "    \"\"\"Decompress a list of output ks to a string.\"\"\"\n",
    " \n",
    "    dict_size = 256\n",
    "    dictionary = dict((i, chr(i)) for i in range(dict_size))\n",
    " \n",
    "    # use StringIO, otherwise this becomes O(N^2)\n",
    "    # due to string concatenation in a loop\n",
    "    result = StringIO()\n",
    "    w = chr(compressed.pop(0))\n",
    "    result.write(w)\n",
    "    for k in compressed:\n",
    "        if k in dictionary:\n",
    "            entry = dictionary[k]\n",
    "        elif k == dict_size:\n",
    "            entry = w + w[0]\n",
    "        else:\n",
    "            raise ValueError('Bad compressed k: %s' % k)\n",
    "        result.write(entry)\n",
    " \n",
    "        # Add w+entry[0] to the dictionary.\n",
    "        dictionary[dict_size] = w + entry[0]\n",
    "        dict_size += 1\n",
    " \n",
    "        w = entry\n",
    "    return result.getvalue()\n",
    "\n",
    "def entropy(p):\n",
    "    return -p*log(p, 2) - (1-p)*log(1-p,2)\n",
    "\n",
    "def list_to_string(a):\n",
    "    return re.sub('\\W+','', str(a) )\n",
    "\n",
    "def lzw_test(delta):\n",
    "    delta_string = list_to_string(delta)\n",
    "    delta_compressed = compress(delta_string)\n",
    "    delta_decompressed = decompress(delta_compressed)\n",
    "    ratio = len(delta_compressed)/len(delta_string)\n",
    "    error = np.sum(np.array([int(i) for i in delta_string]) != np.array([int(i) for i in delta_decompressed]))\n",
    "    \n",
    "    print(\"- using lzw\")\n",
    "    print(\"original size   : \", len(delta))\n",
    "    print(\"compressed size : \", len(delta_compressed))\n",
    "    print(\"ratio           : \", ratio)\n",
    "    print(\"error           : \", error/len(delta_string))\n",
    "\n",
    "def random_generator(size, p=0.5, space=50):\n",
    "    numrand = np.random.binomial(1,p, size=size*space)\n",
    "    spaced = numrand[0::space]\n",
    "    a = list(spaced.astype(int))\n",
    "    random_str = list_to_string(a)\n",
    "    return random_str\n",
    "\n",
    "def get_delta(x):\n",
    "    delta = np.zeros(len(x)-1)\n",
    "    delta[(x - x.shift(+1))[1:]>0] = 1\n",
    "    # 1 = increase\n",
    "    # 0 = not increase (decrease or stays the same)\n",
    "    delta = delta.astype(int)\n",
    "    return list(delta)\n"
   ]
  },
  {
   "cell_type": "markdown",
   "metadata": {},
   "source": [
    "# Test 1. sys.getsizeof(X) vs. len(X)"
   ]
  },
  {
   "cell_type": "code",
   "execution_count": 3,
   "metadata": {
    "scrolled": true
   },
   "outputs": [
    {
     "name": "stdout",
     "output_type": "stream",
     "text": [
      "size:  8\n",
      "measured using sys.getsizeof():  2.245614035087719\n",
      "measured using len():            0.625\n",
      "\n",
      "size:  64\n",
      "measured using sys.getsizeof():  2.336283185840708\n",
      "measured using len():            0.390625\n",
      "\n",
      "size:  512\n",
      "measured using sys.getsizeof():  1.910873440285205\n",
      "measured using len():            0.228515625\n",
      "\n",
      "size:  4096\n",
      "measured using sys.getsizeof():  1.325934861278649\n",
      "measured using len():            0.151123046875\n",
      "\n",
      "size:  32768\n",
      "measured using sys.getsizeof():  0.9178169850991864\n",
      "measured using len():            0.109893798828125\n",
      "\n",
      "size:  262144\n",
      "measured using sys.getsizeof():  0.7640173460008467\n",
      "measured using len():            0.08521652221679688\n",
      "\n",
      "size:  2097152\n",
      "measured using sys.getsizeof():  0.5598166317868435\n",
      "measured using len():            0.06928825378417969\n",
      "\n",
      "size:  16777216\n",
      "measured using sys.getsizeof():  0.5184077380908032\n",
      "measured using len():            0.05820530652999878\n",
      "\n",
      "size:  134217728\n",
      "measured using sys.getsizeof():  0.4266174666266451\n",
      "measured using len():            0.05008997768163681\n",
      "\n"
     ]
    }
   ],
   "source": [
    "ratio_list_sys =[]\n",
    "ratio_list_len =[]\n",
    "\n",
    "for size in np.logspace(3,27,9, base=2, dtype=int):\n",
    "    print(\"size: \", size)\n",
    "    uncompressed = random_generator(size)\n",
    "    compressed = compress(uncompressed)\n",
    "    \n",
    "    # sys.getsizeof()\n",
    "    compression_ratio = sys.getsizeof(compressed)/sys.getsizeof(uncompressed)\n",
    "    ratio_list_sys.append(compression_ratio)\n",
    "    print(\"measured using sys.getsizeof(): \", compression_ratio)\n",
    "    \n",
    "    # len()\n",
    "    compression_ratio = len(compressed)/len(uncompressed)\n",
    "    ratio_list_len.append(compression_ratio)\n",
    "    print(\"measured using len():           \", compression_ratio)\n",
    "    print()"
   ]
  },
  {
   "cell_type": "code",
   "execution_count": 4,
   "metadata": {},
   "outputs": [
    {
     "data": {
      "image/png": "[encoded data removed]",
      "text/plain": [
       "<Figure size 432x288 with 1 Axes>"
      ]
     },
     "metadata": {
      "needs_background": "light"
     },
     "output_type": "display_data"
    },
    {
     "data": {
      "image/png": "[encoded data removed]",
      "text/plain": [
       "<Figure size 432x288 with 1 Axes>"
      ]
     },
     "metadata": {
      "needs_background": "light"
     },
     "output_type": "display_data"
    }
   ],
   "source": [
    "##### sys.getsizeof() plot\n",
    "plt.plot(ratio_list_sys, marker='.', label=\"sys.getsizeof()\")\n",
    "\n",
    "plt.axhline(1, c=\"red\", label=\"y=1\")\n",
    "plt.axhline(0.5, c=\"salmon\", label=\"y=0.5\")\n",
    "plt.axhline(0.05, c=\"lightsalmon\", label=\"y=0.05\")\n",
    "\n",
    "plt.xticks(np.arange(9),np.linspace(3,27,9, dtype=int))\n",
    "plt.legend()\n",
    "plt.xlabel(\"length of string(log, base=2)\")\n",
    "plt.ylabel(\"compression ratio\")\n",
    "plt.ylim(0,)\n",
    "plt.title(\"Compression Ratio of Random Bernoulli generated by Numpy\")\n",
    "plt.show()\n",
    "\n",
    "##### len() plot\n",
    "plt.plot(ratio_list_len, marker='.', label=\"len()\")\n",
    "\n",
    "plt.axhline(1, c=\"red\", label=\"y=1\")\n",
    "plt.axhline(0.5, c=\"salmon\", label=\"y=0.5\")\n",
    "plt.axhline(0.05, c=\"lightsalmon\", label=\"y=0.05\")\n",
    "\n",
    "plt.xticks(np.arange(9),np.linspace(3,27,9, dtype=int))\n",
    "plt.legend()\n",
    "plt.xlabel(\"length of string(log, base=2)\")\n",
    "plt.ylabel(\"compression ratio\")\n",
    "plt.ylim(0,)\n",
    "plt.title(\"Compression Ratio of Random Bernoulli generated by Numpy\")\n",
    "plt.show()"
   ]
  },
  {
   "cell_type": "markdown",
   "metadata": {},
   "source": [
    "# Test 2. regression model for a fixed input string size N"
   ]
  },
  {
   "cell_type": "code",
   "execution_count": 220,
   "metadata": {},
   "outputs": [],
   "source": [
    "def regression_model(size, number_of_p=30, verbose=False):\n",
    "    ratio_list =[]\n",
    "    true_entropy = []\n",
    "    for p in np.linspace(1e-5,0.5,number_of_p):\n",
    "        true_entropy.append(entropy(p))\n",
    "        uncompressed = random_generator(size, p)\n",
    "        compressed = compress(uncompressed)\n",
    "        compression_ratio = len(compressed)/len(uncompressed)\n",
    "        ratio_list.append(compression_ratio)\n",
    "        \n",
    "        if verbose:\n",
    "            print(\"p : \", p)\n",
    "            print(\"theoretical entropy: \", entropy(p))\n",
    "            print(\"compression ratio: \", compression_ratio)\n",
    "            print()\n",
    "\n",
    "    # linear regression\n",
    "    reg = LinearRegression().fit(np.array(true_entropy[:]).reshape(-1, 1), np.array(ratio_list[:]))\n",
    "    print(\"y = ax + b model\")\n",
    "    print(\"a = \", reg.coef_)\n",
    "    print(\"b = \", reg.intercept_)\n",
    "\n",
    "    plt.plot(true_entropy, ratio_list, marker='.', label = \"LZW compressor\")\n",
    "    plt.plot(true_entropy, reg.predict(np.array(true_entropy).reshape(-1,1)), label=\"regression\")\n",
    "\n",
    "    plt.title(\"Compression Ratio of size {} Bernoulli(p), 0<p<0.5\".format(size))\n",
    "    plt.xlabel(\"theoretical entropy\")\n",
    "    plt.ylabel(\"compression ratio\")\n",
    "    plt.legend()\n",
    "    plt.show()\n",
    "\n",
    "    return ratio_list, true_entropy\n",
    "\n",
    "def get_entropy(size, compression_ratio):\n",
    "    # mapping compression ratio to entropy\n",
    "    ratio_list, true_entropy = regression_model(size, number_of_p=30, verbose=False)\n",
    "    reg_inv = LinearRegression().fit(np.array(ratio_list[:]).reshape(-1, 1), np.array(true_entropy[:]))\n",
    "    return reg_inv.predict(np.array(compression_ratio).reshape(-1, 1))\n",
    "\n",
    "def f(p):\n",
    "    return -p*log(p,2) - (1-p)*log(1-p,2)\n",
    "\n",
    "def df(p):\n",
    "    return -log(p/(1-p),2) \n",
    "\n",
    "def inverse_binary_entropy(H, a=0.001):\n",
    "    # from entropy value, get p s.t. 0 < p < 0.5\n",
    "    # a = accuracy\n",
    "    p_hat = 0.25\n",
    "    err = np.abs(f(p_hat) - H)\n",
    "    while(err > a):\n",
    "        err = np.abs(f(p_hat) - H)\n",
    "        p_hat = p_hat - 0.01* (f(p_hat) - H) * df(p_hat)\n",
    "        if (p_hat<0):\n",
    "            p_hat = e-15\n",
    "        if (p_hat>0.5):\n",
    "            p_hat = 0.5\n",
    "    \n",
    "    return p_hat"
   ]
  },
  {
   "cell_type": "code",
   "execution_count": 125,
   "metadata": {},
   "outputs": [
    {
     "name": "stdout",
     "output_type": "stream",
     "text": [
      "y = ax + b model\n",
      "a =  [0.13636728]\n",
      "b =  0.03708274318499198\n"
     ]
    },
    {
     "data": {
      "image/png": "[encoded data removed]",
      "text/plain": [
       "<Figure size 432x288 with 1 Axes>"
      ]
     },
     "metadata": {
      "needs_background": "light"
     },
     "output_type": "display_data"
    }
   ],
   "source": [
    "power = 11\n",
    "size = 2 ** power\n",
    "\n",
    "ratio_list, true_entropy = regression_model(size, number_of_p=50, verbose=False)\n",
    "reg_inv = LinearRegression().fit(np.array(ratio_list[:]).reshape(-1, 1), np.array(true_entropy[:]))"
   ]
  },
  {
   "cell_type": "markdown",
   "metadata": {},
   "source": [
    "regression model for a fixed input string size N, multinomial case"
   ]
  },
  {
   "cell_type": "code",
   "execution_count": 113,
   "metadata": {},
   "outputs": [],
   "source": [
    "def multinomial(n,p = [1/3,1/3,1/3]):\n",
    "    final = []\n",
    "    for i in range(n):\n",
    "        result = np.random.multinomial(1, p)\n",
    "        final.append(np.array(range(len(p)))[result == 1][0])\n",
    "    return np.array(final).T\n"
   ]
  },
  {
   "cell_type": "code",
   "execution_count": null,
   "metadata": {},
   "outputs": [],
   "source": []
  },
  {
   "cell_type": "markdown",
   "metadata": {},
   "source": [
    "# Test 3. Assessing the difficulty of NBA prediction problem\n",
    "## Theoretical Lower Bound"
   ]
  },
  {
   "cell_type": "code",
   "execution_count": 217,
   "metadata": {},
   "outputs": [],
   "source": [
    "def get_entropy(size, compression_ratio):\n",
    "    # mapping compression ratio to entropy\n",
    "    ratio_list, true_entropy = regression_model(size, number_of_p=30, verbose=False)\n",
    "    reg_inv = LinearRegression().fit(np.array(ratio_list[:]).reshape(-1, 1), np.array(true_entropy[:]))\n",
    "    return reg_inv.predict(np.array(compression_ratio).reshape(-1, 1))\n",
    "\n",
    "def f(p):\n",
    "    return -p*log(p,2) - (1-p)*log(1-p,2)\n",
    "\n",
    "def df(p):\n",
    "    return -log(p/(1-p),2) \n",
    "\n",
    "def inverse_binary_entropy(H, a=0.001):\n",
    "    # from entropy value, get p s.t. 0 < p < 0.5\n",
    "    # a = accuracy\n",
    "    p_hat = 0.25\n",
    "    err = np.abs(f(p_hat) - H)\n",
    "    while(err > a):\n",
    "        err = np.abs(f(p_hat) - H)\n",
    "        p_hat = p_hat - 0.01* (f(p_hat) - H) * df(p_hat)\n",
    "        if (p_hat<0):\n",
    "            p_hat = 0\n",
    "        if (p_hat>0.5):\n",
    "            p_hat = 0.5    \n",
    "    return p_hat"
   ]
  },
  {
   "cell_type": "code",
   "execution_count": null,
   "metadata": {},
   "outputs": [],
   "source": []
  },
  {
   "cell_type": "code",
   "execution_count": null,
   "metadata": {},
   "outputs": [],
   "source": []
  },
  {
   "cell_type": "code",
   "execution_count": null,
   "metadata": {},
   "outputs": [],
   "source": []
  },
  {
   "cell_type": "code",
   "execution_count": null,
   "metadata": {},
   "outputs": [],
   "source": []
  },
  {
   "cell_type": "code",
   "execution_count": null,
   "metadata": {},
   "outputs": [],
   "source": []
  }
 ],
 "metadata": {
  "kernelspec": {
   "display_name": "Python 3",
   "language": "python",
   "name": "python3"
  },
  "language_info": {
   "codemirror_mode": {
    "name": "ipython",
    "version": 3
   },
   "file_extension": ".py",
   "mimetype": "text/x-python",
   "name": "python",
   "nbconvert_exporter": "python",
   "pygments_lexer": "ipython3",
   "version": "3.6.7"
  }
 },
 "nbformat": 4,
 "nbformat_minor": 2
}
