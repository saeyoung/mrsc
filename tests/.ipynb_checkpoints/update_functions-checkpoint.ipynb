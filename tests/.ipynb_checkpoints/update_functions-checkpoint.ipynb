{
 "cells": [
  {
   "cell_type": "code",
   "execution_count": 1,
   "metadata": {
    "collapsed": true
   },
   "outputs": [],
   "source": [
    "import sys, os\n",
    "sys.path.append(\"../..\")\n",
    "sys.path.append(\"..\")\n",
    "sys.path.append(os.getcwd())\n",
    "\n",
    "from matplotlib import pyplot as plt\n",
    "import numpy as np\n",
    "import pandas as pd\n",
    "import copy\n",
    "\n",
    "from tslib.src import tsUtils\n",
    "from tslib.src.synthcontrol.syntheticControl import RobustSyntheticControl\n",
    "from tslib.src.synthcontrol.multisyntheticControl import MultiRobustSyntheticControl\n",
    "\n",
    "import random\n",
    "from numpy.linalg import svd, matrix_rank, norm\n",
    "from sklearn import linear_model\n",
    "import pickle"
   ]
  },
  {
   "cell_type": "code",
   "execution_count": 2,
   "metadata": {
    "collapsed": true
   },
   "outputs": [],
   "source": [
    "# For Jehangir's Code\n",
    "def getDataForGit(pre1, pre2, metrics, game_ids):\n",
    "    \"\"\"\n",
    "        pre1 = (string) target or donor\n",
    "        pre2 = (string) home or away\n",
    "        metrics = (list) list of metrics\n",
    "    \"\"\"\n",
    "    df_list = []\n",
    "    prefix = pre1+ \"_\" + pre2 + \"_\"\n",
    "    df = pd.DataFrame()\n",
    "    for i in range(len(metrics)):\n",
    "        df = pd.read_pickle(\"../data/nba-hosoi/\"+ prefix +metrics[i]+\".pkl\")\n",
    "        df = df.iloc[df.index.isin(game_ids)].T\n",
    "        df = df.reset_index(drop=True)\n",
    "        df_list.append(df)\n",
    "    return df_list\n",
    "\n",
    "def getDF(donor_list, target_list, target_id):\n",
    "    # append the first column (target) before the donor dataframe\n",
    "    num_k = len(donor_list)\n",
    "    DF_list =[]\n",
    "    for k in range(num_k):\n",
    "        bucket = pd.concat([target_list[k][target_id], donor_list[k]], axis=1)\n",
    "        DF_list.append(bucket)\n",
    "    return DF_list\n",
    "\n",
    "def DF_split(DF_list, T_0):\n",
    "    # split train and test\n",
    "    num_k = len(DF_list)\n",
    "    DF_train_list =[]\n",
    "    DF_test_list =[]\n",
    "    for k in range(num_k):\n",
    "        X = DF_list[k]\n",
    "        train = X.iloc[:T_0,:]\n",
    "        test = X.iloc[T_0:,:]\n",
    "        DF_train_list.append(train)\n",
    "        DF_test_list.append(test)\n",
    "    return DF_train_list, DF_test_list"
   ]
  },
  {
   "cell_type": "code",
   "execution_count": 3,
   "metadata": {},
   "outputs": [],
   "source": [
    "# experiment prarams\n",
    "train_pcts = [0.1, 0.25, 0.5, 0.75, 0.9]\n",
    "freq = 15\n",
    "T = int(12*60*4/freq + 1)\n",
    "T_0s = [int(np.ceil(train_pct * T)) for train_pct in train_pcts]\n",
    "singvals = 1\n",
    "donor_ids = np.array(pd.read_pickle('../data/nba-hosoi/donor_ids.pkl'))\n",
    "target_ids = np.array(pd.read_pickle('../data/nba-hosoi/target_ids.pkl'))\n",
    "metrics = ['points','assists', 'rebounds', 'bs', 'fouls']\n",
    "num_k = len(metrics)\n",
    "relative_weights = [1.0] * len(T_0s)\n",
    "\n",
    "# data prep\n",
    "donor_home_list = getDataForGit(\"donor\", \"home\", metrics, donor_ids)\n",
    "target_home_list = getDataForGit(\"target\", \"home\", metrics, target_ids)"
   ]
  },
  {
   "cell_type": "code",
   "execution_count": 57,
   "metadata": {},
   "outputs": [],
   "source": [
    "target_id = target_ids[0]\n",
    "\n",
    "######################################\n",
    "keySeriesLabel = target_id\n",
    "otherSeriesLabels = donor_ids.tolist()\n",
    "\n",
    "# combine target (first row) + doner matrix\n",
    "DF_home_list = getDF(donor_home_list, target_home_list, target_id)\n",
    "\n",
    "\"\"\"first model with T_0 = 20\"\"\"\n",
    "T_0 = 20\n",
    "# train/test split\n",
    "DF_home_train_list, DF_home_test_list = DF_split(DF_home_list, T_0)     \n",
    "\n",
    "# model\n",
    "mrscmodel = MultiRobustSyntheticControl(num_k, relative_weights, keySeriesLabel, singvals, T_0, probObservation=1.0, svdMethod='numpy', otherSeriesKeysArray=otherSeriesLabels)\n",
    "\n",
    "# fit\n",
    "mrscmodel.fit(DF_home_train_list)"
   ]
  },
  {
   "cell_type": "code",
   "execution_count": 5,
   "metadata": {
    "scrolled": true
   },
   "outputs": [],
   "source": [
    "combinedMat = mrscmodel.combineMetrics(DF_home_train_list, isForTraining=True)"
   ]
  },
  {
   "cell_type": "code",
   "execution_count": 6,
   "metadata": {},
   "outputs": [
    {
     "name": "stdout",
     "output_type": "stream",
     "text": [
      "updated\n"
     ]
    }
   ],
   "source": [
    "combinedMat_1 = mrscmodel.combineMetrics_1(DF_home_train_list, isForTraining=True)"
   ]
  },
  {
   "cell_type": "code",
   "execution_count": 10,
   "metadata": {
    "collapsed": true
   },
   "outputs": [],
   "source": [
    "combinedDF = combinedMat\n",
    "combinedDF_pre = pd.DataFrame(columns =combinedDF.columns, index = combinedDF.index)\n",
    "nbrMetrics = mrscmodel.nbrMetrics\n",
    "intervIndex = 10\n",
    "totalIndex = 20"
   ]
  },
  {
   "cell_type": "code",
   "execution_count": 23,
   "metadata": {
    "collapsed": true
   },
   "outputs": [],
   "source": [
    "def get_preint_data(combinedDF, intervIndex, totalIndex, nbrMetrics):\n",
    "    \"\"\"\n",
    "    Input:\n",
    "        combinedDF: (dataframe) concatenated df of size KT * N\n",
    "        intervIndex: pre-int period\n",
    "        totalIndex: total period\n",
    "        nbrMetrics: number of metrics\n",
    "    \n",
    "    Output:\n",
    "        pre intervention of all metrics, concatenated\n",
    "    \"\"\"\n",
    "    indexToChoose = []\n",
    "    for k in range(nbrMetrics):\n",
    "        indexToChoose = indexToChoose + list(range(k*totalIndex,k*totalIndex + intervIndex))\n",
    "    return combinedDF.loc[indexToChoose,:]"
   ]
  },
  {
   "cell_type": "code",
   "execution_count": 70,
   "metadata": {
    "collapsed": true
   },
   "outputs": [],
   "source": [
    "arrayOfDonorKeyToSeriesDF = donor_home_list\n",
    "arrayOfTargetKeyToSeriesDF, postinterv = DF_split(target_home_list, 20)\n",
    "for i in range(5):\n",
    "    arrayOfTargetKeyToSeriesDF[i] = arrayOfTargetKeyToSeriesDF[i].iloc[:,0:1]"
   ]
  },
  {
   "cell_type": "code",
   "execution_count": 71,
   "metadata": {},
   "outputs": [
    {
     "name": "stdout",
     "output_type": "stream",
     "text": [
      "updated\n",
      "updated\n"
     ]
    },
    {
     "ename": "KeyError",
     "evalue": "\"None of [Int64Index([21300001, 21300002, 21300003, 21300004, 21300006, 21300007,\\n            21300008, 21300009, 21300010, 21300011,\\n            ...\\n            21601220, 21601222, 21601223, 21601224, 21601225, 21601226,\\n            21601227, 21601228, 21601229, 21601230],\\n           dtype='int64', name='nbaId', length=4738)] are in the [columns]\"",
     "output_type": "error",
     "traceback": [
      "\u001b[0;31m---------------------------------------------------------------------------\u001b[0m",
      "\u001b[0;31mKeyError\u001b[0m                                  Traceback (most recent call last)",
      "\u001b[0;32m<ipython-input-71-1736cf07220b>\u001b[0m in \u001b[0;36m<module>\u001b[0;34m()\u001b[0m\n\u001b[1;32m      1\u001b[0m \u001b[0mdonorKeyToSeriesDF\u001b[0m \u001b[0;34m=\u001b[0m \u001b[0mmrscmodel\u001b[0m\u001b[0;34m.\u001b[0m\u001b[0mcombineMetrics_1\u001b[0m\u001b[0;34m(\u001b[0m\u001b[0marrayOfDonorKeyToSeriesDF\u001b[0m\u001b[0;34m,\u001b[0m \u001b[0;32mFalse\u001b[0m\u001b[0;34m)\u001b[0m\u001b[0;34m\u001b[0m\u001b[0;34m\u001b[0m\u001b[0m\n\u001b[0;32m----> 2\u001b[0;31m \u001b[0mtargetKeyToSeriesDF\u001b[0m \u001b[0;34m=\u001b[0m \u001b[0mmrscmodel\u001b[0m\u001b[0;34m.\u001b[0m\u001b[0mcombineMetrics_1\u001b[0m\u001b[0;34m(\u001b[0m\u001b[0marrayOfTargetKeyToSeriesDF\u001b[0m\u001b[0;34m,\u001b[0m \u001b[0;32mFalse\u001b[0m\u001b[0;34m)\u001b[0m\u001b[0;34m\u001b[0m\u001b[0;34m\u001b[0m\u001b[0m\n\u001b[0m",
      "\u001b[0;32m~/Documents/GitHub/tslib/src/synthcontrol/multisyntheticControl.py\u001b[0m in \u001b[0;36mcombineMetrics_1\u001b[0;34m(self, arrayOfKeyToSeriesDF, isForTraining)\u001b[0m\n\u001b[1;32m     90\u001b[0m \u001b[0;34m\u001b[0m\u001b[0m\n\u001b[1;32m     91\u001b[0m                 \u001b[0;32mif\u001b[0m \u001b[0;34m(\u001b[0m\u001b[0misForTraining\u001b[0m \u001b[0;34m==\u001b[0m  \u001b[0;32mFalse\u001b[0m\u001b[0;34m)\u001b[0m\u001b[0;34m:\u001b[0m\u001b[0;34m\u001b[0m\u001b[0;34m\u001b[0m\u001b[0m\n\u001b[0;32m---> 92\u001b[0;31m                         \u001b[0mcombinedDF\u001b[0m \u001b[0;34m=\u001b[0m \u001b[0mcombinedDF\u001b[0m\u001b[0;34m.\u001b[0m\u001b[0mloc\u001b[0m\u001b[0;34m[\u001b[0m\u001b[0;34m:\u001b[0m\u001b[0;34m,\u001b[0m \u001b[0mself\u001b[0m\u001b[0;34m.\u001b[0m\u001b[0motherSeriesKeysArray\u001b[0m\u001b[0;34m]\u001b[0m\u001b[0;34m\u001b[0m\u001b[0;34m\u001b[0m\u001b[0m\n\u001b[0m\u001b[1;32m     93\u001b[0m \u001b[0;34m\u001b[0m\u001b[0m\n\u001b[1;32m     94\u001b[0m                 \u001b[0;32mreturn\u001b[0m \u001b[0mcombinedDF\u001b[0m\u001b[0;34m.\u001b[0m\u001b[0mreset_index\u001b[0m\u001b[0;34m(\u001b[0m\u001b[0mdrop\u001b[0m\u001b[0;34m=\u001b[0m\u001b[0;32mTrue\u001b[0m\u001b[0;34m)\u001b[0m\u001b[0;34m\u001b[0m\u001b[0;34m\u001b[0m\u001b[0m\n",
      "\u001b[0;32m~/anaconda3/lib/python3.6/site-packages/pandas/core/indexing.py\u001b[0m in \u001b[0;36m__getitem__\u001b[0;34m(self, key)\u001b[0m\n\u001b[1;32m   1492\u001b[0m             \u001b[0;32mexcept\u001b[0m \u001b[0;34m(\u001b[0m\u001b[0mKeyError\u001b[0m\u001b[0;34m,\u001b[0m \u001b[0mIndexError\u001b[0m\u001b[0;34m,\u001b[0m \u001b[0mAttributeError\u001b[0m\u001b[0;34m)\u001b[0m\u001b[0;34m:\u001b[0m\u001b[0;34m\u001b[0m\u001b[0;34m\u001b[0m\u001b[0m\n\u001b[1;32m   1493\u001b[0m                 \u001b[0;32mpass\u001b[0m\u001b[0;34m\u001b[0m\u001b[0;34m\u001b[0m\u001b[0m\n\u001b[0;32m-> 1494\u001b[0;31m             \u001b[0;32mreturn\u001b[0m \u001b[0mself\u001b[0m\u001b[0;34m.\u001b[0m\u001b[0m_getitem_tuple\u001b[0m\u001b[0;34m(\u001b[0m\u001b[0mkey\u001b[0m\u001b[0;34m)\u001b[0m\u001b[0;34m\u001b[0m\u001b[0;34m\u001b[0m\u001b[0m\n\u001b[0m\u001b[1;32m   1495\u001b[0m         \u001b[0;32melse\u001b[0m\u001b[0;34m:\u001b[0m\u001b[0;34m\u001b[0m\u001b[0;34m\u001b[0m\u001b[0m\n\u001b[1;32m   1496\u001b[0m             \u001b[0;31m# we by definition only have the 0th axis\u001b[0m\u001b[0;34m\u001b[0m\u001b[0;34m\u001b[0m\u001b[0;34m\u001b[0m\u001b[0m\n",
      "\u001b[0;32m~/anaconda3/lib/python3.6/site-packages/pandas/core/indexing.py\u001b[0m in \u001b[0;36m_getitem_tuple\u001b[0;34m(self, tup)\u001b[0m\n\u001b[1;32m    886\u001b[0m                 \u001b[0;32mcontinue\u001b[0m\u001b[0;34m\u001b[0m\u001b[0;34m\u001b[0m\u001b[0m\n\u001b[1;32m    887\u001b[0m \u001b[0;34m\u001b[0m\u001b[0m\n\u001b[0;32m--> 888\u001b[0;31m             \u001b[0mretval\u001b[0m \u001b[0;34m=\u001b[0m \u001b[0mgetattr\u001b[0m\u001b[0;34m(\u001b[0m\u001b[0mretval\u001b[0m\u001b[0;34m,\u001b[0m \u001b[0mself\u001b[0m\u001b[0;34m.\u001b[0m\u001b[0mname\u001b[0m\u001b[0;34m)\u001b[0m\u001b[0;34m.\u001b[0m\u001b[0m_getitem_axis\u001b[0m\u001b[0;34m(\u001b[0m\u001b[0mkey\u001b[0m\u001b[0;34m,\u001b[0m \u001b[0maxis\u001b[0m\u001b[0;34m=\u001b[0m\u001b[0mi\u001b[0m\u001b[0;34m)\u001b[0m\u001b[0;34m\u001b[0m\u001b[0;34m\u001b[0m\u001b[0m\n\u001b[0m\u001b[1;32m    889\u001b[0m \u001b[0;34m\u001b[0m\u001b[0m\n\u001b[1;32m    890\u001b[0m         \u001b[0;32mreturn\u001b[0m \u001b[0mretval\u001b[0m\u001b[0;34m\u001b[0m\u001b[0;34m\u001b[0m\u001b[0m\n",
      "\u001b[0;32m~/anaconda3/lib/python3.6/site-packages/pandas/core/indexing.py\u001b[0m in \u001b[0;36m_getitem_axis\u001b[0;34m(self, key, axis)\u001b[0m\n\u001b[1;32m   1900\u001b[0m                     \u001b[0;32mraise\u001b[0m \u001b[0mValueError\u001b[0m\u001b[0;34m(\u001b[0m\u001b[0;34m'Cannot index with multidimensional key'\u001b[0m\u001b[0;34m)\u001b[0m\u001b[0;34m\u001b[0m\u001b[0;34m\u001b[0m\u001b[0m\n\u001b[1;32m   1901\u001b[0m \u001b[0;34m\u001b[0m\u001b[0m\n\u001b[0;32m-> 1902\u001b[0;31m                 \u001b[0;32mreturn\u001b[0m \u001b[0mself\u001b[0m\u001b[0;34m.\u001b[0m\u001b[0m_getitem_iterable\u001b[0m\u001b[0;34m(\u001b[0m\u001b[0mkey\u001b[0m\u001b[0;34m,\u001b[0m \u001b[0maxis\u001b[0m\u001b[0;34m=\u001b[0m\u001b[0maxis\u001b[0m\u001b[0;34m)\u001b[0m\u001b[0;34m\u001b[0m\u001b[0;34m\u001b[0m\u001b[0m\n\u001b[0m\u001b[1;32m   1903\u001b[0m \u001b[0;34m\u001b[0m\u001b[0m\n\u001b[1;32m   1904\u001b[0m             \u001b[0;31m# nested tuple slicing\u001b[0m\u001b[0;34m\u001b[0m\u001b[0;34m\u001b[0m\u001b[0;34m\u001b[0m\u001b[0m\n",
      "\u001b[0;32m~/anaconda3/lib/python3.6/site-packages/pandas/core/indexing.py\u001b[0m in \u001b[0;36m_getitem_iterable\u001b[0;34m(self, key, axis)\u001b[0m\n\u001b[1;32m   1203\u001b[0m             \u001b[0;31m# A collection of keys\u001b[0m\u001b[0;34m\u001b[0m\u001b[0;34m\u001b[0m\u001b[0;34m\u001b[0m\u001b[0m\n\u001b[1;32m   1204\u001b[0m             keyarr, indexer = self._get_listlike_indexer(key, axis,\n\u001b[0;32m-> 1205\u001b[0;31m                                                          raise_missing=False)\n\u001b[0m\u001b[1;32m   1206\u001b[0m             return self.obj._reindex_with_indexers({axis: [keyarr, indexer]},\n\u001b[1;32m   1207\u001b[0m                                                    copy=True, allow_dups=True)\n",
      "\u001b[0;32m~/anaconda3/lib/python3.6/site-packages/pandas/core/indexing.py\u001b[0m in \u001b[0;36m_get_listlike_indexer\u001b[0;34m(self, key, axis, raise_missing)\u001b[0m\n\u001b[1;32m   1159\u001b[0m         self._validate_read_indexer(keyarr, indexer,\n\u001b[1;32m   1160\u001b[0m                                     \u001b[0mo\u001b[0m\u001b[0;34m.\u001b[0m\u001b[0m_get_axis_number\u001b[0m\u001b[0;34m(\u001b[0m\u001b[0maxis\u001b[0m\u001b[0;34m)\u001b[0m\u001b[0;34m,\u001b[0m\u001b[0;34m\u001b[0m\u001b[0;34m\u001b[0m\u001b[0m\n\u001b[0;32m-> 1161\u001b[0;31m                                     raise_missing=raise_missing)\n\u001b[0m\u001b[1;32m   1162\u001b[0m         \u001b[0;32mreturn\u001b[0m \u001b[0mkeyarr\u001b[0m\u001b[0;34m,\u001b[0m \u001b[0mindexer\u001b[0m\u001b[0;34m\u001b[0m\u001b[0;34m\u001b[0m\u001b[0m\n\u001b[1;32m   1163\u001b[0m \u001b[0;34m\u001b[0m\u001b[0m\n",
      "\u001b[0;32m~/anaconda3/lib/python3.6/site-packages/pandas/core/indexing.py\u001b[0m in \u001b[0;36m_validate_read_indexer\u001b[0;34m(self, key, indexer, axis, raise_missing)\u001b[0m\n\u001b[1;32m   1244\u001b[0m                 raise KeyError(\n\u001b[1;32m   1245\u001b[0m                     u\"None of [{key}] are in the [{axis}]\".format(\n\u001b[0;32m-> 1246\u001b[0;31m                         key=key, axis=self.obj._get_axis_name(axis)))\n\u001b[0m\u001b[1;32m   1247\u001b[0m \u001b[0;34m\u001b[0m\u001b[0m\n\u001b[1;32m   1248\u001b[0m             \u001b[0;31m# We (temporarily) allow for some missing keys with .loc, except in\u001b[0m\u001b[0;34m\u001b[0m\u001b[0;34m\u001b[0m\u001b[0;34m\u001b[0m\u001b[0m\n",
      "\u001b[0;31mKeyError\u001b[0m: \"None of [Int64Index([21300001, 21300002, 21300003, 21300004, 21300006, 21300007,\\n            21300008, 21300009, 21300010, 21300011,\\n            ...\\n            21601220, 21601222, 21601223, 21601224, 21601225, 21601226,\\n            21601227, 21601228, 21601229, 21601230],\\n           dtype='int64', name='nbaId', length=4738)] are in the [columns]\""
     ]
    }
   ],
   "source": [
    "donorKeyToSeriesDF = mrscmodel.combineMetrics_1(arrayOfDonorKeyToSeriesDF, False)\n",
    "targetKeyToSeriesDF = mrscmodel.combineMetrics_1(arrayOfTargetKeyToSeriesDF, False)"
   ]
  },
  {
   "cell_type": "code",
   "execution_count": null,
   "metadata": {
    "collapsed": true
   },
   "outputs": [],
   "source": [
    "targetKeyToSeriesDF"
   ]
  },
  {
   "cell_type": "code",
   "execution_count": null,
   "metadata": {
    "collapsed": true
   },
   "outputs": [],
   "source": [
    "donorKeyToSeriesDF = mrscmodel.combineMetrics(arrayOfDonorKeyToSeriesDF, False)\n",
    "targetKeyToSeriesDF \n",
    "nbrMetrics=5\n"
   ]
  },
  {
   "cell_type": "code",
   "execution_count": 21,
   "metadata": {},
   "outputs": [
    {
     "data": {
      "text/plain": [
       "array([[  6.71797766e-17,   1.78649240e-01,   8.03215368e-01, ...,\n",
       "          1.09436124e+00,   1.14827626e+00,   1.20823391e+00],\n",
       "       [  3.88513899e-17,   1.03316379e-01,   4.64515291e-01, ...,\n",
       "          6.32890692e-01,   6.64070810e-01,   6.98745504e-01],\n",
       "       [  5.21913769e-17,   1.38791021e-01,   6.24010947e-01, ...,\n",
       "          8.50199611e-01,   8.92085714e-01,   9.38666286e-01],\n",
       "       ..., \n",
       "       [  7.15677693e-17,   1.90318102e-01,   8.55679120e-01, ...,\n",
       "          1.16584182e+00,   1.22327841e+00,   1.28715233e+00],\n",
       "       [  3.60152668e-17,   9.57743589e-02,   4.30606014e-01, ...,\n",
       "          5.86690133e-01,   6.15594125e-01,   6.47737591e-01],\n",
       "       [  6.97813874e-17,   1.85567628e-01,   8.34320767e-01, ...,\n",
       "          1.13674158e+00,   1.19274452e+00,   1.25502410e+00]])"
      ]
     },
     "execution_count": 21,
     "metadata": {},
     "output_type": "execute_result"
    }
   ],
   "source": [
    "mrscmodel.model.matrix"
   ]
  },
  {
   "cell_type": "code",
   "execution_count": null,
   "metadata": {
    "collapsed": true
   },
   "outputs": [],
   "source": [
    "X_pre = np.array([])\n",
    "for k in range(K): \n",
    "    if X.ndim > 1:\n",
    "        X_temp = X[k*T:k*T + T0,:]\n",
    "    else:\n",
    "        X_temp = X[k*T:k*T + T0]\n",
    "    X_pre = np.hstack([X_pre, X_temp]) if X_pre.size else X_temp\n",
    "return X_pre"
   ]
  },
  {
   "cell_type": "code",
   "execution_count": null,
   "metadata": {
    "collapsed": true
   },
   "outputs": [],
   "source": []
  },
  {
   "cell_type": "code",
   "execution_count": null,
   "metadata": {
    "collapsed": true
   },
   "outputs": [],
   "source": []
  },
  {
   "cell_type": "code",
   "execution_count": null,
   "metadata": {
    "collapsed": true
   },
   "outputs": [],
   "source": []
  },
  {
   "cell_type": "code",
   "execution_count": null,
   "metadata": {
    "collapsed": true
   },
   "outputs": [],
   "source": []
  },
  {
   "cell_type": "code",
   "execution_count": null,
   "metadata": {
    "collapsed": true
   },
   "outputs": [],
   "source": []
  }
 ],
 "metadata": {
  "kernelspec": {
   "display_name": "Python 3",
   "language": "python",
   "name": "python3"
  },
  "language_info": {
   "codemirror_mode": {
    "name": "ipython",
    "version": 3
   },
   "file_extension": ".py",
   "mimetype": "text/x-python",
   "name": "python",
   "nbconvert_exporter": "python",
   "pygments_lexer": "ipython3",
   "version": "3.6.7"
  }
 },
 "nbformat": 4,
 "nbformat_minor": 2
}
