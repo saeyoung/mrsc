{
 "cells": [
  {
   "cell_type": "code",
   "execution_count": 3,
   "metadata": {
    "collapsed": true
   },
   "outputs": [],
   "source": [
    "import sys, os\n",
    "sys.path.append(\"../..\")\n",
    "sys.path.append(\"..\")\n",
    "sys.path.append(os.getcwd())\n",
    "\n",
    "from matplotlib import pyplot as plt\n",
    "import numpy as np\n",
    "import pandas as pd\n",
    "import copy\n",
    "\n",
    "from mrsc.src.model.SVDmodel import SVDmodel\n",
    "from mrsc.src.model.Target import Target\n",
    "from mrsc.src.model.Donor import Donor\n",
    "from mrsc.src.synthcontrol.mRSC import mRSC\n",
    "from mrsc.src.importData import *\n",
    "import mrsc.src.utils as utils"
   ]
  },
  {
   "cell_type": "code",
   "execution_count": 4,
   "metadata": {
    "collapsed": true
   },
   "outputs": [],
   "source": [
    "def getActivePlayers(stats, year, buffer):\n",
    "    # list of name of the players who were active in this and last year\n",
    "    thisYear = stats[stats.Year == year].copy()\n",
    "    players = list(thisYear.Player.unique())\n",
    "    for i in range(1, buffer+1):\n",
    "        previousYear = stats[stats.Year == (year-i)].copy()\n",
    "        players = list(set(players) & set(previousYear.Player.unique()))\n",
    "    return players\n",
    "\n",
    "def topPlayers(stats, year, metric, n):\n",
    "    stats = stats[stats.Year == year]\n",
    "    stats = stats.groupby('Player').mean().reset_index()\n",
    "    stats_sorted = stats[stats.Year == year].sort_values(metric, ascending = False).reset_index(drop=True)\n",
    "    return stats_sorted[[\"Player\",\"player_id\"]][:n]\n",
    "\n",
    "def removeDuplicated(players, stats):\n",
    "    \"\"\"\n",
    "    players: \"../data/nba-players-stats/player_data.csv\"\n",
    "    stats: \"../data/nba-players-stats/Seasons_Stats.csv\"\n",
    "    \"\"\"\n",
    "    # players with the same name\n",
    "    names = players.name.unique()\n",
    "    duplicated = np.array([])\n",
    "\n",
    "    for name in names:\n",
    "        numrows = len(players[players.name == name])\n",
    "        if numrows != 1:\n",
    "            duplicated = np.append(duplicated, name)\n",
    "\n",
    "    duplicated = np.sort(duplicated)\n",
    "\n",
    "    start_year = players.copy()\n",
    "    start_year = start_year.rename(columns={\"name\":\"Player\"})\n",
    "\n",
    "    # for non-duplicated players\n",
    "    stats_not_duplicated = stats[~stats.Player.isin(duplicated)]\n",
    "    stats_not_duplicated = pd.merge(stats_not_duplicated, start_year, on=\"Player\", how=\"left\")\n",
    "\n",
    "    # only take the values that make sense\n",
    "    stats_not_duplicated = stats_not_duplicated[(stats_not_duplicated.Year >= stats_not_duplicated.year_start) & (stats_not_duplicated.Year <= stats_not_duplicated.year_end )]\n",
    "    stats_not_duplicated[\"year_count\"] = stats_not_duplicated.Year - stats_not_duplicated.year_start\n",
    "\n",
    "    return stats_not_duplicated"
   ]
  },
  {
   "cell_type": "code",
   "execution_count": 63,
   "metadata": {},
   "outputs": [],
   "source": [
    "\"\"\"\n",
    "import data\n",
    "\"\"\"\n",
    "players = pd.read_csv(\"../data/nba-players-stats/player_data.csv\")\n",
    "players = players[players.year_start >= 1980] # only choose players who started after 1980\n",
    "players[\"player_id\"] = range(0,len(players.name)) # assign id\n",
    "\n",
    "stats = pd.read_csv(\"../data/nba-players-stats/Seasons_Stats.csv\")\n",
    "stats = stats[stats.Player.isin(players.name)]\n",
    "\n",
    "# only after 1980\n",
    "stats = stats[stats.Year >= 1980]\n",
    "\n",
    "# without duplicated names --> to do: how to distinguish multiple player with the same name\n",
    "stats = removeDuplicated(players, stats)\n",
    "stats.Year = stats.Year.astype(int)\n",
    "stats.year_count = stats.year_count.astype(int)\n",
    "\n",
    "# transform stats to a dictionary composed of df's for each stat\n",
    "# the stats are re-calculated to get one stat for each year\n",
    "\n",
    "metricsPerGameColNames = [\"PTS\",\"AST\",\"TOV\",\"TRB\",\"STL\",\"BLK\"]\n",
    "metricsPerGameDict = getMetricsPerGameDict(stats, metricsPerGameColNames)\n",
    "\n",
    "metricsPerCentColNames = [\"FG\",\"FT\",\"3P\"]\n",
    "metricsPerCentDict = getMetricsPerCentDict(stats, metricsPerCentColNames)\n",
    "\n",
    "metricsWeightedColNames = [\"PER\"]\n",
    "metricsWeightedDict = getMetricsWeightedDict(stats, metricsWeightedColNames)\n",
    "\n",
    "allMetricsDict = {**metricsPerGameDict, **metricsPerCentDict, **metricsWeightedDict}\n",
    "allPivotedTableDict = getPivotedTableDict(allMetricsDict)\n",
    "allMetrics = list(allMetricsDict.keys())\n",
    "\n",
    "# this matrix will be used to mask the table\n",
    "df_year = pd.pivot_table(stats, values=\"Year\", index=\"Player\", columns = \"year_count\")\n",
    "\n",
    "donor = Donor(allPivotedTableDict, df_year)"
   ]
  },
  {
   "cell_type": "code",
   "execution_count": 90,
   "metadata": {
    "scrolled": true
   },
   "outputs": [
    {
     "name": "stdout",
     "output_type": "stream",
     "text": [
      "all appended\n",
      "1  :  0.920395104699\n",
      "2  :  0.943373967551\n",
      "3  :  0.956349022345\n",
      "4  :  0.967764479047\n",
      "5  :  0.974700657158\n",
      "6  :  0.980302397767\n",
      "7  :  0.984566515288\n",
      "8  :  0.988308935385\n",
      "9  :  0.991606228565\n",
      "PTS_G\n",
      "1  :  0.947659834084\n",
      "2  :  0.973717413752\n",
      "3  :  0.985489612734\n",
      "4  :  0.994123034497\n",
      "5  :  1.0\n",
      "6  :  1.0\n",
      "7  :  1.0\n",
      "8  :  1.0\n",
      "9  :  1.0\n",
      "AST_G\n",
      "1  :  0.936912944918\n",
      "2  :  0.96760525545\n",
      "3  :  0.983441220714\n",
      "4  :  0.993337612331\n",
      "5  :  1.0\n",
      "6  :  1.0\n",
      "7  :  1.0\n",
      "8  :  1.0\n",
      "9  :  1.0\n",
      "TOV_G\n",
      "1  :  0.94684692091\n",
      "2  :  0.971367439135\n",
      "3  :  0.983955633127\n",
      "4  :  0.993234657798\n",
      "5  :  1.0\n",
      "6  :  1.0\n",
      "7  :  1.0\n",
      "8  :  1.0\n",
      "9  :  1.0\n",
      "TRB_G\n",
      "1  :  0.950515453523\n",
      "2  :  0.973096770501\n",
      "3  :  0.984404051221\n",
      "4  :  0.993131368484\n",
      "5  :  1.0\n",
      "6  :  1.0\n",
      "7  :  1.0\n",
      "8  :  1.0\n",
      "9  :  1.0\n",
      "STL_G\n",
      "1  :  0.938602567563\n",
      "2  :  0.964633259636\n",
      "3  :  0.978646517732\n",
      "4  :  0.991362308082\n",
      "5  :  1.0\n",
      "6  :  1.0\n",
      "7  :  1.0\n",
      "8  :  1.0\n",
      "9  :  1.0\n",
      "BLK_G\n",
      "1  :  0.92614251728\n",
      "2  :  0.957576219392\n",
      "3  :  0.975764944936\n",
      "4  :  0.989005673344\n",
      "5  :  1.0\n",
      "6  :  1.0\n",
      "7  :  1.0\n",
      "8  :  1.0\n",
      "9  :  1.0\n",
      "FG%\n",
      "1  :  0.99019771933\n",
      "2  :  0.993843963843\n",
      "3  :  0.996538967276\n",
      "4  :  0.998387735147\n",
      "5  :  1.0\n",
      "6  :  1.0\n",
      "7  :  1.0\n",
      "8  :  1.0\n",
      "9  :  1.0\n",
      "FT%\n",
      "1  :  0.987383771982\n",
      "2  :  0.99201177631\n",
      "3  :  0.995599511846\n",
      "4  :  0.998048171372\n",
      "5  :  1.0\n",
      "6  :  1.0\n",
      "7  :  1.0\n",
      "8  :  1.0\n",
      "9  :  1.0\n",
      "3P%\n",
      "1  :  0.82932013374\n",
      "2  :  0.879974969333\n",
      "3  :  0.92540241323\n",
      "4  :  0.967137828579\n",
      "5  :  1.0\n",
      "6  :  1.0\n",
      "7  :  1.0\n",
      "8  :  1.0\n",
      "9  :  1.0\n",
      "PER_w\n",
      "1  :  0.967457416644\n",
      "2  :  0.980255363103\n",
      "3  :  0.988807074027\n",
      "4  :  0.995125147796\n",
      "5  :  1.0\n",
      "6  :  1.0\n",
      "7  :  1.0\n",
      "8  :  1.0\n",
      "9  :  1.0\n"
     ]
    }
   ],
   "source": [
    "pred_year = 2016\n",
    "window =5\n",
    "\n",
    "print(\"all appended\")\n",
    "df = donor.concat(allMetrics, pred_year, window, method = \"fixed\")\n",
    "u, s, v = np.linalg.svd(df, full_matrices=False)\n",
    "for k in range(1,10,1):\n",
    "    print(k, \" : \", np.sum(s[:k]**2) / np.sum(s ** 2))\n",
    "    \n",
    "for metric in allMetrics:\n",
    "    print(metric)\n",
    "    metric = [metric]\n",
    "    df = donor.concat(metric, pred_year, window, method = \"fixed\")\n",
    "    u, s, v = np.linalg.svd(df, full_matrices=False)\n",
    "\n",
    "    for k in range(1,10,1):\n",
    "        print(k, \" : \", np.sum(s[:k]**2) / np.sum(s ** 2))"
   ]
  },
  {
   "cell_type": "code",
   "execution_count": 92,
   "metadata": {
    "scrolled": true
   },
   "outputs": [
    {
     "name": "stdout",
     "output_type": "stream",
     "text": [
      "5\n",
      "1  :  0.920395104699\n",
      "2  :  0.943373967551\n",
      "3  :  0.956349022345\n",
      "4  :  0.967764479047\n",
      "5  :  0.974700657158\n",
      "6  :  0.980302397767\n",
      "7  :  0.984566515288\n",
      "8  :  0.988308935385\n",
      "9  :  0.991606228565\n",
      "6\n",
      "1  :  0.92138918903\n",
      "2  :  0.941805503975\n",
      "3  :  0.954859222602\n",
      "4  :  0.965976297591\n",
      "5  :  0.973218767934\n",
      "6  :  0.977705204706\n",
      "7  :  0.981736330277\n",
      "8  :  0.985518199233\n",
      "9  :  0.988658680331\n",
      "7\n",
      "1  :  0.922861293593\n",
      "2  :  0.941758802545\n",
      "3  :  0.954567683855\n",
      "4  :  0.965592176572\n",
      "5  :  0.972397643511\n",
      "6  :  0.976520881246\n",
      "7  :  0.980121120482\n",
      "8  :  0.983591739511\n",
      "9  :  0.986688560346\n",
      "8\n",
      "1  :  0.923061824782\n",
      "2  :  0.940914375167\n",
      "3  :  0.953571499589\n",
      "4  :  0.964542534805\n",
      "5  :  0.97117096017\n",
      "6  :  0.97539415058\n",
      "7  :  0.978910134275\n",
      "8  :  0.982045975255\n",
      "9  :  0.984954944122\n",
      "9\n",
      "1  :  0.923394455239\n",
      "2  :  0.941045355247\n",
      "3  :  0.953848529705\n",
      "4  :  0.964547327921\n",
      "5  :  0.9711906229\n",
      "6  :  0.975264123513\n",
      "7  :  0.978660777799\n",
      "8  :  0.981448859643\n",
      "9  :  0.984061469095\n",
      "10\n",
      "1  :  0.922666980303\n",
      "2  :  0.940403747207\n",
      "3  :  0.952735821846\n",
      "4  :  0.963239060348\n",
      "5  :  0.96976582313\n",
      "6  :  0.973566073677\n",
      "7  :  0.976837264239\n",
      "8  :  0.980066396542\n",
      "9  :  0.98258760364\n"
     ]
    }
   ],
   "source": [
    "pred_year = 2016\n",
    "\n",
    "for window in [5,6,7,8,9,10]:\n",
    "    print(window)\n",
    "    df = donor.concat(allMetrics, pred_year, window, method = \"fixed\")\n",
    "    u, s, v = np.linalg.svd(df, full_matrices=False)\n",
    "    for k in range(1,10,1):\n",
    "        print(k, \" : \", np.sum(s[:k]**2) / np.sum(s ** 2))"
   ]
  },
  {
   "cell_type": "code",
   "execution_count": 85,
   "metadata": {
    "scrolled": true
   },
   "outputs": [
    {
     "name": "stdout",
     "output_type": "stream",
     "text": [
      "PTS_G\n",
      "total:  13579\n",
      "zeros:  128\n",
      "%    :  0.943 %\n",
      "AST_G\n",
      "total:  13579\n",
      "zeros:  395\n",
      "%    :  2.909 %\n",
      "TOV_G\n",
      "total:  13579\n",
      "zeros:  262\n",
      "%    :  1.929 %\n",
      "TRB_G\n",
      "total:  13579\n",
      "zeros:  119\n",
      "%    :  0.876 %\n",
      "STL_G\n",
      "total:  13579\n",
      "zeros:  591\n",
      "%    :  4.352 %\n",
      "BLK_G\n",
      "total:  13579\n",
      "zeros:  1210\n",
      "%    :  8.911 %\n",
      "FG%\n",
      "total:  13579\n",
      "zeros:  176\n",
      "%    :  1.296 %\n",
      "FT%\n",
      "total:  13579\n",
      "zeros:  491\n",
      "%    :  3.616 %\n",
      "3P%\n",
      "total:  13579\n",
      "zeros:  4826\n",
      "%    :  35.54 %\n",
      "PER_w\n",
      "total:  13579\n",
      "zeros:  16\n",
      "%    :  0.118 %\n"
     ]
    }
   ],
   "source": [
    "# counting zero's\n",
    "for metric in allMetrics:\n",
    "    print(metric)\n",
    "    df = allPivotedTableDict[metric]\n",
    "    total = df.count().sum()\n",
    "    zeros = (df == 0).sum().sum()\n",
    "    print(\"total: \", total)\n",
    "    print(\"zeros: \", zeros)\n",
    "    print(\"%    : \", (zeros/total*100).round(3) , \"%\")"
   ]
  },
  {
   "cell_type": "code",
   "execution_count": 155,
   "metadata": {
    "scrolled": true
   },
   "outputs": [
    {
     "name": "stdout",
     "output_type": "stream",
     "text": [
      "PTS_G\n",
      "mean:  7.92200399169\n",
      "var :  32.0838332518\n",
      "AST_G\n",
      "mean:  1.79574112237\n",
      "var :  3.20743751102\n",
      "TOV_G\n",
      "mean:  1.21779170247\n",
      "var :  0.605082808767\n",
      "PER_w\n",
      "mean:  12.4617648718\n",
      "var :  34.0919176661\n",
      "FG%\n",
      "mean:  0.437855593392\n",
      "var :  0.00872053498052\n",
      "FT%\n",
      "mean:  0.699081956422\n",
      "var :  0.0343588815249\n",
      "3P%\n",
      "mean:  0.210291942547\n",
      "var :  0.0338761690341\n",
      "TRB_G\n",
      "mean:  3.47893472501\n",
      "var :  6.02690777298\n",
      "STL_G\n",
      "mean:  0.652613014631\n",
      "var :  0.210212141819\n",
      "BLK_G\n",
      "mean:  0.400236204756\n",
      "var :  0.224271504948\n"
     ]
    }
   ],
   "source": [
    "# mean, variance\n",
    "means = []\n",
    "variances = []\n",
    "allMetrics = [\"PTS_G\",\"AST_G\",\"TOV_G\",\"PER_w\", \"FG%\",\"FT%\",\"3P%\",\"TRB_G\",\"STL_G\",\"BLK_G\"]\n",
    "offMetrics = [\"PTS_G\",\"AST_G\",\"TOV_G\",\"PER_w\", \"FG%\",\"FT%\",\"3P%\"]\n",
    "defMetrics = [\"TRB_G\",\"STL_G\",\"BLK_G\"]\n",
    "for metric in allMetrics:\n",
    "    print(metric)\n",
    "    df = allPivotedTableDict[metric]\n",
    "    vals = df.values.flatten()\n",
    "    vals = vals[~np.isnan(vals)]\n",
    "    means.append(vals.mean())\n",
    "    variances.append(np.var(vals))\n",
    "    print(\"mean: \", vals.mean())\n",
    "    print(\"var : \", np.var(vals))"
   ]
  },
  {
   "cell_type": "code",
   "execution_count": 152,
   "metadata": {},
   "outputs": [
    {
     "data": {
      "text/plain": [
       "[0.12623068620631453,\n",
       " 0.55687314142618904,\n",
       " 0.82115849366536209,\n",
       " 0.080245455622805287,\n",
       " 2.2838580004246301,\n",
       " 1.4304474472757014,\n",
       " 4.7552939398878413,\n",
       " 0.28744431242409424,\n",
       " 1.5323016513327052,\n",
       " 2.4985245915220626]"
      ]
     },
     "execution_count": 152,
     "metadata": {},
     "output_type": "execute_result"
    }
   ],
   "source": [
    "[1/x for x in means]"
   ]
  },
  {
   "cell_type": "code",
   "execution_count": 154,
   "metadata": {},
   "outputs": [
    {
     "data": {
      "text/plain": [
       "[0.030226243506617984,\n",
       " 0.23767435579974203,\n",
       " 0.62302081521153241,\n",
       " 0.028496590283710845,\n",
       " 0.99135485530619705,\n",
       " 0.96678243679381637,\n",
       " 0.96723382349958986,\n",
       " 0.14231010741961231,\n",
       " 0.82630141067410789,\n",
       " 0.8168122805751753]"
      ]
     },
     "execution_count": 154,
     "metadata": {},
     "output_type": "execute_result"
    }
   ],
   "source": [
    "[1/(x+1) for x in variances]"
   ]
  },
  {
   "cell_type": "code",
   "execution_count": 158,
   "metadata": {},
   "outputs": [
    {
     "name": "stdout",
     "output_type": "stream",
     "text": [
      "PTS_G\n",
      "mean:  7.92200399169\n",
      "var :  32.0838332518\n",
      "PER_w\n",
      "mean:  12.4617648718\n",
      "var :  34.0919176661\n",
      "mean\n",
      "[0.12623068620631453, 0.080245455622805287]\n",
      "\n",
      "var\n",
      "[0.031168345507630011, 0.029332465536104278]\n"
     ]
    }
   ],
   "source": [
    "means = []\n",
    "variances = []\n",
    "metrics = [\"PTS_G\",\"PER_w\"]\n",
    "for metric in metrics:\n",
    "    print(metric)\n",
    "    df = allPivotedTableDict[metric]\n",
    "    vals = df.values.flatten()\n",
    "    vals = vals[~np.isnan(vals)]\n",
    "    means.append(vals.mean())\n",
    "    variances.append(np.var(vals))\n",
    "    print(\"mean: \", vals.mean())\n",
    "    print(\"var : \", np.var(vals))\n",
    "    \n",
    "print(\"mean\")\n",
    "print([1/x for x in means])\n",
    "print()\n",
    "print(\"var\")\n",
    "print([1/x for x in variances])"
   ]
  },
  {
   "cell_type": "code",
   "execution_count": null,
   "metadata": {
    "collapsed": true
   },
   "outputs": [],
   "source": []
  },
  {
   "cell_type": "code",
   "execution_count": null,
   "metadata": {
    "collapsed": true
   },
   "outputs": [],
   "source": []
  },
  {
   "cell_type": "code",
   "execution_count": null,
   "metadata": {
    "collapsed": true
   },
   "outputs": [],
   "source": []
  },
  {
   "cell_type": "code",
   "execution_count": null,
   "metadata": {
    "collapsed": true
   },
   "outputs": [],
   "source": []
  },
  {
   "cell_type": "code",
   "execution_count": null,
   "metadata": {
    "collapsed": true
   },
   "outputs": [],
   "source": []
  },
  {
   "cell_type": "code",
   "execution_count": null,
   "metadata": {
    "collapsed": true
   },
   "outputs": [],
   "source": []
  },
  {
   "cell_type": "code",
   "execution_count": null,
   "metadata": {
    "collapsed": true
   },
   "outputs": [],
   "source": []
  },
  {
   "cell_type": "code",
   "execution_count": null,
   "metadata": {
    "collapsed": true
   },
   "outputs": [],
   "source": []
  },
  {
   "cell_type": "code",
   "execution_count": null,
   "metadata": {
    "collapsed": true
   },
   "outputs": [],
   "source": []
  },
  {
   "cell_type": "code",
   "execution_count": null,
   "metadata": {
    "collapsed": true
   },
   "outputs": [],
   "source": []
  },
  {
   "cell_type": "code",
   "execution_count": 19,
   "metadata": {},
   "outputs": [
    {
     "data": {
      "image/png": "[encoded data removed]",
      "text/plain": [
       "<matplotlib.figure.Figure at 0x117ef5da0>"
      ]
     },
     "metadata": {},
     "output_type": "display_data"
    }
   ],
   "source": [
    "plt.plot(s)\n",
    "plt.show()"
   ]
  },
  {
   "cell_type": "code",
   "execution_count": 25,
   "metadata": {},
   "outputs": [
    {
     "data": {
      "text/plain": [
       "array([ 654723.89023898,   16510.29454557,    7515.00108469,\n",
       "          4625.42400441,    3173.13252717,    2628.10627988,\n",
       "          2335.13926528,    1814.32273237,    1549.61264339,\n",
       "          1422.12528201])"
      ]
     },
     "execution_count": 25,
     "metadata": {},
     "output_type": "execute_result"
    }
   ],
   "source": [
    "s ** 2"
   ]
  },
  {
   "cell_type": "code",
   "execution_count": 24,
   "metadata": {},
   "outputs": [
    {
     "data": {
      "text/plain": [
       "0.94029393281482787"
      ]
     },
     "execution_count": 24,
     "metadata": {},
     "output_type": "execute_result"
    }
   ],
   "source": []
  },
  {
   "cell_type": "code",
   "execution_count": null,
   "metadata": {
    "collapsed": true
   },
   "outputs": [],
   "source": []
  },
  {
   "cell_type": "code",
   "execution_count": null,
   "metadata": {
    "collapsed": true
   },
   "outputs": [],
   "source": []
  },
  {
   "cell_type": "code",
   "execution_count": null,
   "metadata": {
    "collapsed": true
   },
   "outputs": [],
   "source": []
  },
  {
   "cell_type": "code",
   "execution_count": null,
   "metadata": {
    "collapsed": true
   },
   "outputs": [],
   "source": []
  },
  {
   "cell_type": "code",
   "execution_count": null,
   "metadata": {
    "collapsed": true
   },
   "outputs": [],
   "source": []
  },
  {
   "cell_type": "code",
   "execution_count": null,
   "metadata": {
    "collapsed": true
   },
   "outputs": [],
   "source": []
  },
  {
   "cell_type": "code",
   "execution_count": null,
   "metadata": {
    "collapsed": true
   },
   "outputs": [],
   "source": []
  },
  {
   "cell_type": "code",
   "execution_count": null,
   "metadata": {
    "collapsed": true
   },
   "outputs": [],
   "source": []
  },
  {
   "cell_type": "code",
   "execution_count": null,
   "metadata": {
    "collapsed": true
   },
   "outputs": [],
   "source": []
  },
  {
   "cell_type": "code",
   "execution_count": null,
   "metadata": {
    "collapsed": true
   },
   "outputs": [],
   "source": []
  }
 ],
 "metadata": {
  "kernelspec": {
   "display_name": "Python 3",
   "language": "python",
   "name": "python3"
  },
  "language_info": {
   "codemirror_mode": {
    "name": "ipython",
    "version": 3
   },
   "file_extension": ".py",
   "mimetype": "text/x-python",
   "name": "python",
   "nbconvert_exporter": "python",
   "pygments_lexer": "ipython3",
   "version": "3.6.7"
  }
 },
 "nbformat": 4,
 "nbformat_minor": 2
}
